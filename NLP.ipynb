{
 "cells": [
  {
   "cell_type": "markdown",
   "metadata": {},
   "source": [
    "<font size=5 face='黑体'>1.正则表达式"
   ]
  },
  {
   "cell_type": "code",
   "execution_count": 7,
   "metadata": {},
   "outputs": [
    {
     "name": "stdout",
     "output_type": "stream",
     "text": [
      "say.title() i.title(), world.title() hello.title()\n",
      "('say.title() i.title(), world.title() hello.title()', 2)\n",
      "I Say, Hello World\n",
      "('I Say, Hello World', 2)\n"
     ]
    }
   ],
   "source": [
    "import re\n",
    "p = re.compile(r'(\\w+) (\\w+)')\n",
    "s = 'i say, hello world'\n",
    "\n",
    "print(p.sub(r'\\2.title() \\1.title()',s))\n",
    "print(p.subn(r'\\2.title() \\1.title()',s))\n",
    "\n",
    "def func(m):\n",
    "    return m.group(1).title() + ' ' + m.group(2).title()\n",
    "\n",
    "print(p.sub(func,s))\n",
    "print(p.subn(func,s))"
   ]
  },
  {
   "cell_type": "code",
   "execution_count": 11,
   "metadata": {},
   "outputs": [
    {
     "data": {
      "text/plain": [
       "['i say, he', 'o wor', '!']"
      ]
     },
     "execution_count": 11,
     "metadata": {},
     "output_type": "execute_result"
    }
   ],
   "source": [
    "p = re.compile(r'l\\w')\n",
    "p.split(s)"
   ]
  },
  {
   "cell_type": "code",
   "execution_count": 6,
   "metadata": {},
   "outputs": [
    {
     "data": {
      "text/plain": [
       "['ll', 'ld']"
      ]
     },
     "execution_count": 6,
     "metadata": {},
     "output_type": "execute_result"
    }
   ],
   "source": [
    "p.findall(s)"
   ]
  },
  {
   "cell_type": "code",
   "execution_count": 13,
   "metadata": {},
   "outputs": [
    {
     "name": "stdout",
     "output_type": "stream",
     "text": [
      "ll\n",
      "ld\n"
     ]
    }
   ],
   "source": [
    "for i in p.finditer(s):\n",
    "    print(i.group())"
   ]
  },
  {
   "cell_type": "code",
   "execution_count": 10,
   "metadata": {},
   "outputs": [
    {
     "name": "stdout",
     "output_type": "stream",
     "text": [
      "('i', 'say')\n",
      "('i', 'say', 'hello world', '!')\n",
      "0\n",
      "19\n",
      "2\n",
      "5\n",
      "(2, 5)\n",
      "hello world! isay\n"
     ]
    }
   ],
   "source": [
    "p = re.compile(r'(\\w+) (\\w+).* (\\w+ \\w+)(?P<sign>.*)')\n",
    "s = 'i say, hello world!'\n",
    "m = p.match(s)\n",
    "print(m.group(1,2))\n",
    "print(m.groups())\n",
    "print(m.pos)\n",
    "print(m.endpos)\n",
    "print(m.start(2))\n",
    "print(m.end(2))\n",
    "print(m.span(2))\n",
    "print(m.expand(r'\\3\\4 \\1\\2'))"
   ]
  },
  {
   "cell_type": "markdown",
   "metadata": {},
   "source": [
    "<font size=5 face='黑体'>2.中文分词"
   ]
  },
  {
   "cell_type": "code",
   "execution_count": 15,
   "metadata": {},
   "outputs": [
    {
     "name": "stdout",
     "output_type": "stream",
     "text": [
      "Full Mode：我/ 在/ 学习/ 自然/ 自然语言/ 语言/ 处理\n",
      "Default Mode：我/ 在/ 学习/ 自然语言/ 处理\n"
     ]
    }
   ],
   "source": [
    "import jieba\n",
    "\n",
    "seg_list = jieba.cut('我在学习自然语言处理',cut_all=True)   #全模式\n",
    "print('Full Mode：'+'/ '.join(seg_list))     \n",
    "\n",
    "seg_list = jieba.cut('我在学习自然语言处理',cut_all=False)     #精确模式（默认）\n",
    "print('Default Mode：'+'/ '.join(seg_list))"
   ]
  },
  {
   "cell_type": "code",
   "execution_count": 16,
   "metadata": {},
   "outputs": [
    {
     "name": "stdout",
     "output_type": "stream",
     "text": [
      "小明/ 毕业/ 于/ 上海交通大学/ ，/ 毕业/ 后/ 在/ 百度/ 深度/ 学习/ 研究院/ 深造\n",
      "小明/ 毕业/ 于/ 上海/ 交通/ 大学/ 上海交通大学/ ，/ 毕业/ 后/ 在/ 百度/ 深度/ 学习/ 研究/ 研究院/ 深造\n"
     ]
    }
   ],
   "source": [
    "seg_list = jieba.cut('小明毕业于上海交通大学，毕业后在百度深度学习研究院深造')\n",
    "print('/ '.join(seg_list))\n",
    "\n",
    "seg_list = jieba.cut_for_search('小明毕业于上海交通大学，毕业后在百度深度学习研究院深造')    #搜索引擎模式\n",
    "print('/ '.join(seg_list))"
   ]
  },
  {
   "cell_type": "code",
   "execution_count": 17,
   "metadata": {},
   "outputs": [
    {
     "name": "stdout",
     "output_type": "stream",
     "text": [
      "如果/ 放到/ 旧/ 词典/ 中将/ 出错\n",
      "如果/ 放到/ 旧/ 词典/ 中/ 将/ 出错\n"
     ]
    }
   ],
   "source": [
    "#用户添加自定义词典\n",
    "#jieba.load_userdict(file_name)\n",
    "#jieba.add_word 和 jieba.del_word\n",
    "#jieba.suggest_freq（segment,tune=True）可以调节单个词语的词频\n",
    "#（注意需要将HMM设为False）\n",
    "print('/ '.join(jieba.cut('如果放到旧词典中将出错')))\n",
    "jieba.suggest_freq(('中','将'),True)\n",
    "print('/ '.join(jieba.cut('如果放到旧词典中将出错',HMM=False)))"
   ]
  },
  {
   "cell_type": "code",
   "execution_count": 18,
   "metadata": {},
   "outputs": [],
   "source": [
    "#关键词提取\n",
    "#基于TF-IDF的关键词提取\n",
    "#jieba.analyse.extract_tags()"
   ]
  },
  {
   "cell_type": "code",
   "execution_count": null,
   "metadata": {},
   "outputs": [],
   "source": [
    "#基于TextRank算法的关键词提取   适合大样本\n",
    "#jieba.analyse.textrank()"
   ]
  },
  {
   "cell_type": "code",
   "execution_count": 19,
   "metadata": {},
   "outputs": [
    {
     "name": "stdout",
     "output_type": "stream",
     "text": [
      "我 r\n",
      "爱 v\n",
      "自然语言 l\n",
      "处理 v\n"
     ]
    }
   ],
   "source": [
    "#词性标注\n",
    "import jieba.posseg as pseg\n",
    "words = pseg.cut('我爱自然语言处理')\n",
    "for word,flag in words:\n",
    "    print('%s %s' % (word,flag))"
   ]
  },
  {
   "cell_type": "markdown",
   "metadata": {},
   "source": [
    "<font size=5 face='黑体'>3.文本分类"
   ]
  },
  {
   "cell_type": "markdown",
   "metadata": {},
   "source": [
    "<font size=5 face='黑体'>朴素贝叶斯新闻分类"
   ]
  },
  {
   "cell_type": "code",
   "execution_count": 68,
   "metadata": {},
   "outputs": [
    {
     "name": "stdout",
     "output_type": "stream",
     "text": [
      "start...\n",
      "[0.8421052631578947]\n",
      "finish\n"
     ]
    }
   ],
   "source": [
    "import os\n",
    "import time\n",
    "import random\n",
    "import jieba\n",
    "#import nltk   处理英文\n",
    "import sklearn\n",
    "from sklearn.naive_bayes import MultinomialNB\n",
    "import numpy as np\n",
    "import pylab as pl\n",
    "import matplotlib.pyplot as plt\n",
    "\n",
    "#读取停止词文件\n",
    "def make_word_set(words_file):\n",
    "    words_set = set()\n",
    "    with open(words_file,'r',encoding='UTF-8') as fp:\n",
    "        for line in fp.readlines():\n",
    "            word = line.strip()\n",
    "            if len(word)>0 and word not in words_set:\n",
    "                words_set.add(word)\n",
    "    return words_set\n",
    "\n",
    "#文本处理，也就是样本生成过程\n",
    "def text_processing(folder_path,test_size=0.2):\n",
    "    folder_list = os.listdir(folder_path)\n",
    "    data_list = []\n",
    "    class_list = []\n",
    "    \n",
    "    #遍历文件夹\n",
    "    for folder in folder_list:\n",
    "        new_folder_path = os.path.join(folder_path,folder)\n",
    "        files = os.listdir(new_folder_path)\n",
    "        #读取文件\n",
    "        for file in files:\n",
    "            with open(os.path.join(new_folder_path,file),'r',encoding='UTF-8') as fp:\n",
    "                raw = fp.read()\n",
    "            word_cut = jieba.cut(raw,cut_all=False)  #精确模式\n",
    "            word_list = list(word_cut)   #genertor转化为list,每个词是unicode格式\n",
    "            \n",
    "            data_list.append(word_list)\n",
    "            class_list.append(folder)\n",
    "    \n",
    "    #划分训练集和测试集\n",
    "    random.seed(10)\n",
    "    data_class_list = list(zip(data_list,class_list))\n",
    "    random.shuffle(data_class_list)\n",
    "    index = int(len(data_class_list) * test_size) + 1\n",
    "    train_list = data_class_list[index:]\n",
    "    test_list = data_class_list[:index]\n",
    "    train_data_list,train_class_list = zip(*train_list)\n",
    "    test_data_list,test_class_list = zip(*test_list)\n",
    "    \n",
    "    #或者直接用train_test_split做\n",
    "    \n",
    "    #统计词频放入all_words_dict\n",
    "    all_words_dict = {}\n",
    "    for word_list in train_data_list:\n",
    "        for word in word_list:\n",
    "            if word in all_words_dict:\n",
    "                all_words_dict[word] += 1\n",
    "            else:\n",
    "                all_words_dict[word] = 1\n",
    "    \n",
    "    #词频降序排序\n",
    "    all_words_tuple_list = sorted(all_words_dict.items(),key=lambda x:x[1],reverse=True)\n",
    "    all_words_list = list(list(zip(*all_words_tuple_list))[0])\n",
    "    \n",
    "    return all_words_list,train_data_list,test_data_list,train_class_list,test_class_list\n",
    "\n",
    "#选取特征词\n",
    "def words_dict(all_words_list,deleteN,stopwords_set=set()):\n",
    "    feature_words = []\n",
    "    n = 1\n",
    "    for t in range(deleteN,len(all_words_list),1):\n",
    "        if n > 2000:\n",
    "            break\n",
    "        if not all_words_list[t].isdigit() and all_words_list[t] not in stopwords_set and 1<len(all_words_list[t])<5:\n",
    "            feature_words.append(all_words_list[t])\n",
    "            n += 1\n",
    "    return feature_words\n",
    "\n",
    "#文本特征\n",
    "def text_features(train_data_list,test_data_list,feature_words,flag='nltk'):\n",
    "    def text_feature(text,feature_words):\n",
    "        text_words = set(text)\n",
    "        if flag == 'nltk':\n",
    "            #nltk特征 dict\n",
    "            features = {word:1 if word in text_words else 0 for word in feature_words}\n",
    "        elif flag == 'sklearn':\n",
    "            #sklearn特征 list\n",
    "            features = [1 if word in text_words else 0 for word in feature_words]\n",
    "        else:\n",
    "            features = []\n",
    "        return features\n",
    "    \n",
    "    train_feature_list = [text_feature(text,feature_words) for text in train_data_list]\n",
    "    test_feature_list = [text_feature(text,feature_words) for text in test_data_list]\n",
    "    \n",
    "    return train_feature_list,test_feature_list\n",
    "\n",
    "#分类，同时输出准确率等\n",
    "def text_classifier(train_feature_list,test_feature_list,train_class_list,test_class_list,flag='nltk'):\n",
    "    if flag == 'nltk':\n",
    "        #使用nltk分类器\n",
    "        train_flist = zip(train_feature_list,train_class_list)\n",
    "        test_flist = zip(test_feature_list,test_class_list)\n",
    "        classifier = nltk.classify.NaiveBayesClassifier.train(train_flist)\n",
    "        test_accuracy = nltk.classify.accuracy(classifier,test_flist)\n",
    "    elif flag == 'sklearn':\n",
    "        #使用sklearn分类器\n",
    "        classifier = MultinomialNB().fit(train_feature_list,train_class_list)\n",
    "        test_accuracy = classifier.score(test_feature_list,test_class_list)\n",
    "    else:\n",
    "        test_accuracy = []\n",
    "        \n",
    "    return test_accuracy\n",
    "\n",
    "\n",
    "print('start...')\n",
    "\n",
    "# 文本预处理\n",
    "folder_path = r'F:\\百度网盘\\NLP课件资料\\Lecture_2\\Lecture_2\\Naive-Bayes-Text-Classifier\\Database\\SogouC\\Sample'\n",
    "all_words_list,train_data_list,test_data_list,train_class_list,test_class_list = text_processing(folder_path,test_size=0.2)\n",
    "\n",
    "#生成stopwords_set\n",
    "stopwords_file = r'F:\\百度网盘\\NLP课件资料\\Lecture_2\\Lecture_2\\Naive-Bayes-Text-Classifier\\stopwords_cn.txt'\n",
    "stopwords_set = make_word_set(stopwords_file)\n",
    "\n",
    "# 文本特征提取和分类\n",
    "# flag = 'nltk'\n",
    "flag = 'sklearn'\n",
    "#deleteNs = range(0,200,20)\n",
    "test_accuracy_list = []\n",
    "#for deleteN in deleteNs:\n",
    "feature_words = words_dict(all_words_list,0,stopwords_set)\n",
    "#print(feature_words)\n",
    "train_feature_list,test_feature_list = text_features(train_data_list,test_data_list,feature_words,flag)\n",
    "test_accuracy = text_classifier(train_feature_list,test_feature_list,train_class_list,test_class_list,flag)\n",
    "test_accuracy_list.append(test_accuracy)\n",
    "    \n",
    "print(test_accuracy_list)\n",
    "print('finish')"
   ]
  },
  {
   "cell_type": "code",
   "execution_count": 70,
   "metadata": {},
   "outputs": [
    {
     "name": "stdout",
     "output_type": "stream",
     "text": [
      "训练集样本个数：71,特征个数:9956\n",
      "最优超参数为: {'alpha': 0.046415888336127795}\n",
      "测试集准确率: 84.21%\n"
     ]
    }
   ],
   "source": [
    "from sklearn.feature_extraction.text import TfidfVectorizer\n",
    "from sklearn.naive_bayes import MultinomialNB,BernoulliNB\n",
    "from sklearn.model_selection import GridSearchCV\n",
    "from sklearn import metrics\n",
    "\n",
    "def text_processing(folder_path,test_size=0.2):\n",
    "    folder_list = os.listdir(folder_path)\n",
    "    data_list = []\n",
    "    class_list = []\n",
    "    \n",
    "    #遍历文件夹\n",
    "    for folder in folder_list:\n",
    "        new_folder_path = os.path.join(folder_path,folder)\n",
    "        files = os.listdir(new_folder_path)\n",
    "        #读取文件\n",
    "        for file in files:\n",
    "            with open(os.path.join(new_folder_path,file),'r',encoding='UTF-8') as fp:\n",
    "                raw = fp.read()\n",
    "            word_cut = jieba.cut(raw,cut_all=False)  #精确模式\n",
    "            word_cut = ' '.join(word_cut)\n",
    "            #word_list = list(word_cut)   #genertor转化为list,每个词是unicode格式\n",
    "            \n",
    "            data_list.append(word_cut)\n",
    "            class_list.append(folder)\n",
    "    \n",
    "    #划分训练集和测试集\n",
    "    random.seed(10)\n",
    "    data_class_list = list(zip(data_list,class_list))\n",
    "    random.shuffle(data_class_list)\n",
    "    index = int(len(data_class_list) * test_size) + 1\n",
    "    train_list = data_class_list[index:]\n",
    "    test_list = data_class_list[:index]\n",
    "    train_data_list,train_class_list = zip(*train_list)\n",
    "    test_data_list,test_class_list = zip(*test_list)\n",
    "    \n",
    "    #或者直接用train_test_split做\n",
    "    \n",
    "    return train_data_list,test_data_list,train_class_list,test_class_list\n",
    "\n",
    "stopwords_file = r'F:\\百度网盘\\NLP课件资料\\Lecture_2\\Lecture_2\\Naive-Bayes-Text-Classifier\\stopwords_cn.txt'\n",
    "stopwords_set = make_word_set(stopwords_file)\n",
    "\n",
    "folder_path = r'F:\\百度网盘\\NLP课件资料\\Lecture_2\\Lecture_2\\Naive-Bayes-Text-Classifier\\Database\\SogouC\\Sample'\n",
    "train_data_list,test_data_list,train_class_list,test_class_list = text_processing(folder_path,test_size=0.2)\n",
    "\n",
    "y_train = train_class_list\n",
    "y_test = test_class_list\n",
    "vectorizer = TfidfVectorizer(input='content',token_pattern=r'(?u)\\b\\w+\\b',stop_words=stopwords_set,max_df=0.5,sublinear_tf=True)\n",
    "x_train = vectorizer.fit_transform(train_data_list)\n",
    "x_test = vectorizer.transform(test_data_list)\n",
    "\n",
    "print(u'训练集样本个数：%d,特征个数:%d' % x_train.shape)\n",
    "\n",
    "alpha_can = np.logspace(-3,2,10)\n",
    "model = GridSearchCV(MultinomialNB(),param_grid={'alpha':alpha_can},cv=5)\n",
    "model.fit(x_train,y_train)\n",
    "print('最优超参数为:',model.best_params_)\n",
    "y_hat = model.predict(x_test)\n",
    "acc = metrics.accuracy_score(y_test,y_hat)\n",
    "print('测试集准确率: %.2f%%' % (100 * acc))"
   ]
  },
  {
   "cell_type": "markdown",
   "metadata": {},
   "source": [
    "<font size=5 face='黑体'>朴素贝叶斯语种检测"
   ]
  },
  {
   "cell_type": "code",
   "execution_count": 8,
   "metadata": {},
   "outputs": [
    {
     "name": "stdout",
     "output_type": "stream",
     "text": [
      "准确率： 0.9770621967357741\n"
     ]
    }
   ],
   "source": [
    "from sklearn.model_selection import train_test_split\n",
    "from sklearn.feature_extraction.text import CountVectorizer\n",
    "from sklearn.naive_bayes import MultinomialNB\n",
    "import re\n",
    "\n",
    "#使用正则表达式 去除噪声数据\n",
    "def remove_noise(document):\n",
    "    noise_pattern = re.compile('|'.join(['http\\S+','\\@\\w+','\\#\\w+']))   #'\\'表示 或\n",
    "    clean_text = re.sub(noise_pattern,'',document)\n",
    "    return clean_text.strip()\n",
    "\n",
    "#加载数据\n",
    "def data_processing(path):\n",
    "    with open(path,'r',encoding='UTF-8') as f:\n",
    "        lines = f.readlines()\n",
    "    dataset = [(line.strip()[:-3],line.strip()[-2:]) for line in lines]\n",
    "    \n",
    "    x,y = zip(*dataset)\n",
    "    x_train,x_test,y_train,y_test = train_test_split(x,y,random_state=1)\n",
    "    return x_train,x_test,y_train,y_test\n",
    "\n",
    "path = r'F:\\百度网盘\\NLP课件资料\\Lecture_2\\Lecture_2\\Language-Detector\\data.csv'\n",
    "x_train,x_test,y_train,y_test = data_processing(path)\n",
    "\n",
    "vec = CountVectorizer(\n",
    "    lowercase = True,\n",
    "    analyzer = 'char_wb',\n",
    "    ngram_range = (1,2),\n",
    "    max_features = 1000,\n",
    "    preprocessor = remove_noise)\n",
    "vec.fit(x_train)\n",
    "\n",
    "classifier = MultinomialNB()\n",
    "classifier.fit(vec.transform(x_train),y_train)\n",
    "print('准确率：',classifier.score(vec.transform(x_test),y_test))"
   ]
  },
  {
   "cell_type": "code",
   "execution_count": null,
   "metadata": {},
   "outputs": [],
   "source": []
  },
  {
   "cell_type": "code",
   "execution_count": null,
   "metadata": {},
   "outputs": [],
   "source": [
    "import keras\n",
    "from keras.datasets import imdb\n",
    "from keras.preprocessing import sequence\n",
    "from keras import layers\n",
    "from keras.models import Sequential\n",
    "\n",
    "max_features = 10000\n",
    "maxlen = 500\n",
    "\n",
    "(x_train,y_train),(x_test,y_test) = imdb.load_data(num_words=max_features)\n",
    "x_train = sequence.pad_sequences(x_train,maxlen=maxlen)\n",
    "x_test = sequence.pad_sequences(x_test,maxlen=maxlen)\n",
    "\n",
    "model = Sequential()\n",
    "model.add(layers.Embedding(max_features,64))\n",
    "model.add(layers.Bidirectional(layers.LSTM(32)))\n",
    "model.add(layers.Dense(1,activation='sigmoid'))\n",
    "\n",
    "model.compile(optimizer='rmsprop',loss='binary_crossentropy',metrics=['acc'])\n",
    "history = model.fit(x_train,y_train,epochs=10,batch_size=128,validation_split=0.2)"
   ]
  },
  {
   "cell_type": "code",
   "execution_count": null,
   "metadata": {},
   "outputs": [
    {
     "name": "stderr",
     "output_type": "stream",
     "text": [
      "H:\\anaconda\\lib\\site-packages\\h5py\\__init__.py:36: FutureWarning: Conversion of the second argument of issubdtype from `float` to `np.floating` is deprecated. In future, it will be treated as `np.float64 == np.dtype(float).type`.\n",
      "  from ._conv import register_converters as _register_converters\n",
      "Using TensorFlow backend.\n"
     ]
    },
    {
     "name": "stdout",
     "output_type": "stream",
     "text": [
      "A local file was found, but it seems to be incomplete or outdated because the auto file hash does not match the original value of 599dadb1135973df5b59232a0e9a887c so we will re-download the data.\n",
      "Downloading data from https://s3.amazonaws.com/text-datasets/imdb.npz\n"
     ]
    }
   ],
   "source": [
    "from keras.datasets import imdb\n",
    "\n",
    "(x_train,y_train),(x_test,y_test) = imdb.load_data(num_words=10000)"
   ]
  },
  {
   "cell_type": "code",
   "execution_count": 1,
   "metadata": {},
   "outputs": [
    {
     "name": "stderr",
     "output_type": "stream",
     "text": [
      "H:\\anaconda\\lib\\site-packages\\h5py\\__init__.py:36: FutureWarning: Conversion of the second argument of issubdtype from `float` to `np.floating` is deprecated. In future, it will be treated as `np.float64 == np.dtype(float).type`.\n",
      "  from ._conv import register_converters as _register_converters\n",
      "Using TensorFlow backend.\n"
     ]
    },
    {
     "name": "stdout",
     "output_type": "stream",
     "text": [
      "Train on 20000 samples, validate on 5000 samples\n",
      "Epoch 1/10\n",
      "20000/20000 [==============================] - 173s 9ms/step - loss: 0.4877 - acc: 0.7661 - val_loss: 0.3639 - val_acc: 0.9078\n",
      "Epoch 2/10\n",
      "20000/20000 [==============================] - 159s 8ms/step - loss: 0.2957 - acc: 0.8848 - val_loss: 0.5905 - val_acc: 0.7788\n",
      "Epoch 3/10\n",
      "20000/20000 [==============================] - 167s 8ms/step - loss: 0.2451 - acc: 0.9071 - val_loss: 1.0561 - val_acc: 0.6088\n",
      "Epoch 4/10\n",
      "20000/20000 [==============================] - 159s 8ms/step - loss: 0.2034 - acc: 0.9271 - val_loss: 1.3799 - val_acc: 0.5702\n",
      "Epoch 5/10\n",
      "20000/20000 [==============================] - 161s 8ms/step - loss: 0.1779 - acc: 0.9376 - val_loss: 1.1418 - val_acc: 0.6416\n",
      "Epoch 6/10\n",
      "20000/20000 [==============================] - 161s 8ms/step - loss: 0.1550 - acc: 0.9470 - val_loss: 0.4538 - val_acc: 0.8504\n",
      "Epoch 7/10\n",
      "20000/20000 [==============================] - 161s 8ms/step - loss: 0.1380 - acc: 0.9526 - val_loss: 0.2808 - val_acc: 0.9022\n",
      "Epoch 8/10\n",
      "20000/20000 [==============================] - 159s 8ms/step - loss: 0.1204 - acc: 0.9597 - val_loss: 1.5573 - val_acc: 0.5812\n",
      "Epoch 9/10\n",
      "20000/20000 [==============================] - 161s 8ms/step - loss: 0.1091 - acc: 0.9636 - val_loss: 1.5662 - val_acc: 0.5606\n",
      "Epoch 10/10\n",
      "20000/20000 [==============================] - 160s 8ms/step - loss: 0.0952 - acc: 0.9697 - val_loss: 0.5649 - val_acc: 0.8198\n",
      "25000/25000 [==============================] - 154s 6ms/step\n"
     ]
    },
    {
     "data": {
      "text/plain": [
       "[0.40751714597463606, 0.85244]"
      ]
     },
     "execution_count": 1,
     "metadata": {},
     "output_type": "execute_result"
    }
   ],
   "source": [
    "import os\n",
    "\n",
    "imdb_dir = r'D:\\aclImdb_v1\\aclImdb'\n",
    "train_dir = os.path.join(imdb_dir,'train')\n",
    "test_dir = os.path.join(imdb_dir,'test')\n",
    "\n",
    "train_labels = []\n",
    "test_labels = []\n",
    "train_texts = []\n",
    "test_texts = []\n",
    "\n",
    "for label_type in ['neg','pos']:\n",
    "    dir_name_train = os.path.join(train_dir,label_type)\n",
    "    for fname in os.listdir(dir_name_train):\n",
    "        if fname[-4:] == '.txt':\n",
    "            with open(os.path.join(dir_name_train,fname),'r',encoding='utf8') as fp:\n",
    "                train_texts.append(fp.read())\n",
    "            if label_type == 'neg':\n",
    "                train_labels.append(0)\n",
    "            else:\n",
    "                train_labels.append(1)\n",
    "    dir_name_test = os.path.join(test_dir,label_type)\n",
    "    for fname in os.listdir(dir_name_test):\n",
    "        if fname[-4:] == '.txt':\n",
    "            with open(os.path.join(dir_name_test,fname),'r',encoding='utf8') as fp:\n",
    "                test_texts.append(fp.read())\n",
    "            if label_type == 'neg':\n",
    "                test_labels.append(0)\n",
    "            else:\n",
    "                test_labels.append(1)\n",
    "                \n",
    "                \n",
    "from keras.preprocessing.text import Tokenizer\n",
    "from keras.preprocessing.sequence import pad_sequences\n",
    "import numpy as np\n",
    "from keras import layers\n",
    "from keras.models import Sequential\n",
    "\n",
    "maxlen = 200\n",
    "#training_sample = 200\n",
    "#validation_samples = 10000\n",
    "max_words = 10000\n",
    "\n",
    "tokenizer = Tokenizer(num_words=max_words)\n",
    "tokenizer.fit_on_texts(train_texts)\n",
    "sequences_train = tokenizer.texts_to_sequences(train_texts)\n",
    "sequences_test = tokenizer.texts_to_sequences(test_texts)\n",
    "\n",
    "#word_index = tokenizer.word_index\n",
    "x_train = pad_sequences(sequences_train,maxlen=maxlen)\n",
    "y_train = np.asarray(train_labels)\n",
    "\n",
    "x_test = pad_sequences(sequences_test,maxlen=maxlen)\n",
    "y_test = np.asarray(test_labels)\n",
    "\n",
    "model = Sequential()\n",
    "model.add(layers.Embedding(10000,64))\n",
    "model.add(layers.Bidirectional(layers.LSTM(32)))\n",
    "model.add(layers.Dense(1,activation='sigmoid'))\n",
    "\n",
    "model.compile(optimizer='rmsprop',loss='binary_crossentropy',metrics=['acc'])\n",
    "history = model.fit(x_train,y_train,epochs=10,batch_size=128,validation_split=0.2)\n",
    "\n",
    "model.evaluate(x_test,y_test)"
   ]
  },
  {
   "cell_type": "code",
   "execution_count": 5,
   "metadata": {},
   "outputs": [
    {
     "data": {
      "image/png": "[encoded data removed]",
      "text/plain": [
       "<Figure size 432x288 with 1 Axes>"
      ]
     },
     "metadata": {},
     "output_type": "display_data"
    }
   ],
   "source": [
    "import matplotlib.pyplot as plt\n",
    "\n",
    "acc = history.history['acc']\n",
    "val_acc = history.history['val_acc']\n",
    "\n",
    "epochs = range(1,len(acc)+1)\n",
    "plt.plot(epochs,acc,'bo',label='Training acc')\n",
    "plt.plot(epochs,val_acc,'b',label='Validation acc')\n",
    "plt.title('Traning and validation accuracy')\n",
    "plt.legend()\n",
    "plt.ylim(0,1)\n",
    "plt.show()\n"
   ]
  },
  {
   "cell_type": "code",
   "execution_count": 6,
   "metadata": {},
   "outputs": [
    {
     "name": "stdout",
     "output_type": "stream",
     "text": [
      "Train on 20000 samples, validate on 5000 samples\n",
      "Epoch 1/10\n",
      "20000/20000 [==============================] - 449s 22ms/step - loss: 0.5045 - acc: 0.7487 - val_loss: 0.8442 - val_acc: 0.6932\n",
      "Epoch 2/10\n",
      "20000/20000 [==============================] - 450s 22ms/step - loss: 0.3204 - acc: 0.8724 - val_loss: 0.2757 - val_acc: 0.8974\n",
      "Epoch 3/10\n",
      "20000/20000 [==============================] - 443s 22ms/step - loss: 0.2462 - acc: 0.9047 - val_loss: 1.1192 - val_acc: 0.6004\n",
      "Epoch 4/10\n",
      "20000/20000 [==============================] - 394s 20ms/step - loss: 0.2029 - acc: 0.9254 - val_loss: 0.2227 - val_acc: 0.9278\n",
      "Epoch 5/10\n",
      "20000/20000 [==============================] - 394s 20ms/step - loss: 0.1768 - acc: 0.9345 - val_loss: 1.6101 - val_acc: 0.5392\n",
      "Epoch 6/10\n",
      "20000/20000 [==============================] - 429s 21ms/step - loss: 0.1527 - acc: 0.9479 - val_loss: 0.3436 - val_acc: 0.8772\n",
      "Epoch 7/10\n",
      "20000/20000 [==============================] - 418s 21ms/step - loss: 0.1349 - acc: 0.9556 - val_loss: 0.8118 - val_acc: 0.7590\n",
      "Epoch 8/10\n",
      "20000/20000 [==============================] - 403s 20ms/step - loss: 0.1154 - acc: 0.9629 - val_loss: 0.7382 - val_acc: 0.7760\n",
      "Epoch 9/10\n",
      "20000/20000 [==============================] - 1543s 77ms/step - loss: 0.1037 - acc: 0.9655 - val_loss: 1.1169 - val_acc: 0.6942\n",
      "Epoch 10/10\n",
      "20000/20000 [==============================] - 396s 20ms/step - loss: 0.0942 - acc: 0.9700 - val_loss: 0.9554 - val_acc: 0.7350\n",
      "25000/25000 [==============================] - 354s 14ms/step\n"
     ]
    },
    {
     "data": {
      "image/png": "[encoded data removed]",
      "text/plain": [
       "<Figure size 432x288 with 1 Axes>"
      ]
     },
     "metadata": {},
     "output_type": "display_data"
    }
   ],
   "source": [
    "from keras.preprocessing.text import Tokenizer\n",
    "from keras.preprocessing.sequence import pad_sequences\n",
    "import numpy as np\n",
    "from keras import layers\n",
    "from keras.models import Sequential\n",
    "\n",
    "maxlen = 500\n",
    "#training_sample = 200\n",
    "#validation_samples = 10000\n",
    "max_words = 12000\n",
    "\n",
    "tokenizer = Tokenizer(num_words=max_words)\n",
    "tokenizer.fit_on_texts(train_texts)\n",
    "sequences_train = tokenizer.texts_to_sequences(train_texts)\n",
    "sequences_test = tokenizer.texts_to_sequences(test_texts)\n",
    "\n",
    "#word_index = tokenizer.word_index\n",
    "x_train = pad_sequences(sequences_train,maxlen=maxlen)\n",
    "y_train = np.asarray(train_labels)\n",
    "\n",
    "x_test = pad_sequences(sequences_test,maxlen=maxlen)\n",
    "y_test = np.asarray(test_labels)\n",
    "\n",
    "model = Sequential()\n",
    "model.add(layers.Embedding(12000,64))\n",
    "model.add(layers.Bidirectional(layers.LSTM(32)))\n",
    "model.add(layers.Dense(1,activation='sigmoid'))\n",
    "\n",
    "model.compile(optimizer='rmsprop',loss='binary_crossentropy',metrics=['acc'])\n",
    "history = model.fit(x_train,y_train,epochs=10,batch_size=128,validation_split=0.2)\n",
    "\n",
    "model.evaluate(x_test,y_test)\n",
    "\n",
    "acc = history.history['acc']\n",
    "val_acc = history.history['val_acc']\n",
    "\n",
    "epochs = range(1,len(acc)+1)\n",
    "plt.plot(epochs,acc,'bo',label='Training acc')\n",
    "plt.plot(epochs,val_acc,'b',label='Validation acc')\n",
    "plt.title('Traning and validation accuracy')\n",
    "plt.legend()\n",
    "plt.ylim(0,1)\n",
    "plt.show()"
   ]
  },
  {
   "cell_type": "code",
   "execution_count": null,
   "metadata": {},
   "outputs": [],
   "source": []
  }
 ],
 "metadata": {
  "kernelspec": {
   "display_name": "Python 3",
   "language": "python",
   "name": "python3"
  },
  "language_info": {
   "codemirror_mode": {
    "name": "ipython",
    "version": 3
   },
   "file_extension": ".py",
   "mimetype": "text/x-python",
   "name": "python",
   "nbconvert_exporter": "python",
   "pygments_lexer": "ipython3",
   "version": "3.6.5"
  }
 },
 "nbformat": 4,
 "nbformat_minor": 2
}
