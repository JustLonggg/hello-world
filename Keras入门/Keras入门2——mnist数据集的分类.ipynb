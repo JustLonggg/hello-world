{
 "cells": [
  {
   "cell_type": "code",
   "execution_count": 1,
   "metadata": {},
   "outputs": [
    {
     "name": "stderr",
     "output_type": "stream",
     "text": [
      "H:\\anaconda\\lib\\site-packages\\h5py\\__init__.py:36: FutureWarning: Conversion of the second argument of issubdtype from `float` to `np.floating` is deprecated. In future, it will be treated as `np.float64 == np.dtype(float).type`.\n",
      "  from ._conv import register_converters as _register_converters\n",
      "Using TensorFlow backend.\n"
     ]
    }
   ],
   "source": [
    "import numpy as np\n",
    "import keras\n",
    "from keras.datasets import mnist\n",
    "from keras.utils import np_utils\n",
    "from keras.models import Sequential\n",
    "from keras.layers import Dense\n",
    "from keras.optimizers import SGD"
   ]
  },
  {
   "cell_type": "code",
   "execution_count": 2,
   "metadata": {},
   "outputs": [
    {
     "name": "stdout",
     "output_type": "stream",
     "text": [
      "2.1.0\n"
     ]
    }
   ],
   "source": [
    "print(keras.__version__)"
   ]
  },
  {
   "cell_type": "code",
   "execution_count": 3,
   "metadata": {},
   "outputs": [],
   "source": [
    "(x_train,y_train),(x_test,y_test) = mnist.load_data()\n",
    "x_train = x_train.reshape(x_train.shape[0],-1)/255.0\n",
    "x_test = x_test.reshape(x_test.shape[0],-1)/255.0\n",
    "#将标签转化为one_hot编码\n",
    "y_train = np_utils.to_categorical(y_train,num_classes=10)\n",
    "y_test = np_utils.to_categorical(y_test,num_classes=10)"
   ]
  },
  {
   "cell_type": "code",
   "execution_count": 4,
   "metadata": {},
   "outputs": [
    {
     "name": "stdout",
     "output_type": "stream",
     "text": [
      "Epoch 1/10\n",
      "60000/60000 [==============================] - 20s 341us/step - loss: 0.0448 - acc: 0.7325\n",
      "Epoch 2/10\n",
      "60000/60000 [==============================] - 15s 256us/step - loss: 0.0233 - acc: 0.8690\n",
      "Epoch 3/10\n",
      "60000/60000 [==============================] - 16s 262us/step - loss: 0.0198 - acc: 0.8835\n",
      "Epoch 4/10\n",
      "60000/60000 [==============================] - 16s 263us/step - loss: 0.0182 - acc: 0.8909\n",
      "Epoch 5/10\n",
      "60000/60000 [==============================] - 18s 293us/step - loss: 0.0171 - acc: 0.8964\n",
      "Epoch 6/10\n",
      "60000/60000 [==============================] - 16s 260us/step - loss: 0.0164 - acc: 0.8996\n",
      "Epoch 7/10\n",
      "60000/60000 [==============================] - 16s 263us/step - loss: 0.0159 - acc: 0.9025\n",
      "Epoch 8/10\n",
      "60000/60000 [==============================] - 14s 232us/step - loss: 0.0154 - acc: 0.9047\n",
      "Epoch 9/10\n",
      "60000/60000 [==============================] - 14s 239us/step - loss: 0.0151 - acc: 0.9067\n",
      "Epoch 10/10\n",
      "60000/60000 [==============================] - 15s 255us/step - loss: 0.0148 - acc: 0.9084\n",
      "10000/10000 [==============================] - 2s 195us/step\n",
      "\n",
      "test loss: 0.013891520004253834\n",
      "test accuracy: 0.9138\n"
     ]
    }
   ],
   "source": [
    "#创建模型\n",
    "model = Sequential([\n",
    "        Dense(units=10,input_dim=784,bias_initializer='one',activation='softmax')\n",
    "     ])\n",
    "\n",
    "sgd = SGD(lr=0.2)\n",
    "#训练过程还会计算准确率\n",
    "model.compile(optimizer=sgd,loss='mse',metrics=['accuracy'])\n",
    "#交叉熵：loss='categorical_crossentropy'\n",
    "\n",
    "#训练模型\n",
    "model.fit(x_train,y_train,batch_size=50,epochs=10)\n",
    "\n",
    "#评估模型\n",
    "loss,accuracy = model.evaluate(x_test,y_test)\n",
    "\n",
    "print('\\ntest loss:',loss)\n",
    "print('test accuracy:',accuracy)"
   ]
  },
  {
   "cell_type": "code",
   "execution_count": null,
   "metadata": {},
   "outputs": [],
   "source": []
  }
 ],
 "metadata": {
  "kernelspec": {
   "display_name": "Python 3",
   "language": "python",
   "name": "python3"
  },
  "language_info": {
   "codemirror_mode": {
    "name": "ipython",
    "version": 3
   },
   "file_extension": ".py",
   "mimetype": "text/x-python",
   "name": "python",
   "nbconvert_exporter": "python",
   "pygments_lexer": "ipython3",
   "version": "3.6.5"
  }
 },
 "nbformat": 4,
 "nbformat_minor": 2
}
