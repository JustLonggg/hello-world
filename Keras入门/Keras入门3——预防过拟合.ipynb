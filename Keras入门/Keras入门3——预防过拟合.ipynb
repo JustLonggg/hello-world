{
 "cells": [
  {
   "cell_type": "markdown",
   "metadata": {},
   "source": [
    "<font size=4 face='黑体'>dropout"
   ]
  },
  {
   "cell_type": "code",
   "execution_count": 2,
   "metadata": {},
   "outputs": [],
   "source": [
    "import numpy as np\n",
    "from keras.datasets import mnist\n",
    "from keras.utils import np_utils\n",
    "from keras.models import Sequential\n",
    "from keras.layers import Dense,Dropout\n",
    "from keras.optimizers import SGD"
   ]
  },
  {
   "cell_type": "code",
   "execution_count": 3,
   "metadata": {},
   "outputs": [],
   "source": [
    "(x_train,y_train),(x_test,y_test) = mnist.load_data()\n",
    "x_train = x_train.reshape(x_train.shape[0],-1)/255.0\n",
    "x_test = x_test.reshape(x_test.shape[0],-1)/255.0\n",
    "y_train = np_utils.to_categorical(y_train,num_classes=10)\n",
    "y_test = np_utils.to_categorical(y_test,num_classes=10)"
   ]
  },
  {
   "cell_type": "code",
   "execution_count": 5,
   "metadata": {},
   "outputs": [
    {
     "name": "stdout",
     "output_type": "stream",
     "text": [
      "Epoch 1/5\n",
      "60000/60000 [==============================] - 16s 264us/step - loss: 0.4798 - acc: 0.8527\n",
      "Epoch 2/5\n",
      "60000/60000 [==============================] - 11s 190us/step - loss: 0.2422 - acc: 0.9279\n",
      "Epoch 3/5\n",
      "60000/60000 [==============================] - 11s 188us/step - loss: 0.1989 - acc: 0.9406\n",
      "Epoch 4/5\n",
      "60000/60000 [==============================] - 11s 189us/step - loss: 0.1713 - acc: 0.9483\n",
      "Epoch 5/5\n",
      "60000/60000 [==============================] - 12s 204us/step - loss: 0.1559 - acc: 0.9525\n",
      "60000/60000 [==============================] - 8s 140us/step\n",
      "10000/10000 [==============================] - 2s 158us/step\n",
      "\n",
      "train loss: 0.07237965659418454\n",
      "train accuracy: 0.9772833333333333\n",
      "test loss: 0.09621464887065813\n",
      "test accuracy: 0.9694\n"
     ]
    }
   ],
   "source": [
    "model = Sequential([\n",
    "    Dense(units=200,input_dim=784,bias_initializer='one',activation='relu'),\n",
    "    Dropout(0.4), #0.4的神经元不工作\n",
    "    Dense(units=100,bias_initializer='one',activation='relu'),\n",
    "    Dropout(0.4),\n",
    "    Dense(units=10,bias_initializer='one',activation='softmax')\n",
    "])\n",
    "\n",
    "sgd = SGD(lr=0.2)\n",
    "\n",
    "model.compile(optimizer=sgd,loss='categorical_crossentropy',metrics=['accuracy'])\n",
    "\n",
    "model.fit(x_train,y_train,batch_size=50,epochs=5)\n",
    "\n",
    "train_loss,train_accuracy = model.evaluate(x_train,y_train)\n",
    "test_loss,test_accuracy = model.evaluate(x_test,y_test)\n",
    "\n",
    "print('\\ntrain loss:',train_loss)\n",
    "print('train accuracy:',train_accuracy)\n",
    "print('test loss:',test_loss)\n",
    "print('test accuracy:',test_accuracy)"
   ]
  },
  {
   "cell_type": "markdown",
   "metadata": {},
   "source": [
    "<font size=4 face='黑体'>正则化"
   ]
  },
  {
   "cell_type": "code",
   "execution_count": 7,
   "metadata": {},
   "outputs": [],
   "source": [
    "import numpy as np\n",
    "from keras.datasets import mnist\n",
    "from keras.utils import np_utils\n",
    "from keras.models import Sequential\n",
    "from keras.layers import Dense,Dropout\n",
    "from keras.optimizers import SGD\n",
    "from keras.regularizers import l2"
   ]
  },
  {
   "cell_type": "code",
   "execution_count": null,
   "metadata": {},
   "outputs": [],
   "source": [
    "(x_train,y_train),(x_test,y_test) = mnist.load_data()\n",
    "x_train = x_train.reshape(x_train.shape[0],-1)/255.0\n",
    "x_test = x_test.reshape(x_test.shape[0],-1)/255.0\n",
    "y_train = np_utils.to_categorical(y_train,num_classes=10)\n",
    "y_test = np_utils.to_categorical(y_test,num_classes=10)\n",
    "\n",
    "#权重的l2正则化\n",
    "model = Sequential([\n",
    "    Dense(units=200,input_dim=784,bias_initializer='one',activation='relu',kernel_regularizer=l2(0.0003)),\n",
    "    Dense(units=100,bias_initializer='one',activation='relu',kernel_regularizer=l2(0.0003)),\n",
    "    Dense(units=10,bias_initializer='one',activation='softmax',kernel_regularizer=l2(0.0003))\n",
    "])\n",
    "\n",
    "sgd = SGD(lr=0.2)\n",
    "\n",
    "model.compile(optimizer=sgd,loss='categorical_crossentropy',metrics=['accuracy'])\n",
    "\n",
    "model.fit(x_train,y_train,batch_size=50,epochs=5)\n",
    "\n",
    "train_loss,train_accuracy = model.evaluate(x_train,y_train)\n",
    "test_loss,test_accuracy = model.evaluate(x_test,y_test)\n",
    "\n",
    "print('\\ntrain loss:',train_loss)\n",
    "print('train accuracy:',train_accuracy)\n",
    "print('test loss:',test_loss)\n",
    "print('test accuracy:',test_accuracy)"
   ]
  }
 ],
 "metadata": {
  "kernelspec": {
   "display_name": "Python 3",
   "language": "python",
   "name": "python3"
  },
  "language_info": {
   "codemirror_mode": {
    "name": "ipython",
    "version": 3
   },
   "file_extension": ".py",
   "mimetype": "text/x-python",
   "name": "python",
   "nbconvert_exporter": "python",
   "pygments_lexer": "ipython3",
   "version": "3.6.5"
  }
 },
 "nbformat": 4,
 "nbformat_minor": 2
}
