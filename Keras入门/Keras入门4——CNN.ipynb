{
 "cells": [
  {
   "cell_type": "markdown",
   "metadata": {},
   "source": [
    "<font size=4 face='黑体'>CNN应用于mnist数据集分类"
   ]
  },
  {
   "cell_type": "code",
   "execution_count": 1,
   "metadata": {},
   "outputs": [],
   "source": [
    "from keras.datasets import mnist\n",
    "from keras.utils import np_utils\n",
    "from keras.models import Sequential\n",
    "from keras.layers import Dense,Dropout,Convolution2D,MaxPooling2D,Flatten\n",
    "from keras.optimizers import Adam"
   ]
  },
  {
   "cell_type": "code",
   "execution_count": 4,
   "metadata": {},
   "outputs": [
    {
     "name": "stdout",
     "output_type": "stream",
     "text": [
      "Epoch 1/8\n",
      "60000/60000 [==============================] - 20s 329us/step - loss: 0.1935 - acc: 0.9406\n",
      "Epoch 2/8\n",
      "60000/60000 [==============================] - 16s 262us/step - loss: 0.0538 - acc: 0.9832\n",
      "Epoch 3/8\n",
      "60000/60000 [==============================] - 16s 264us/step - loss: 0.0375 - acc: 0.98840s - loss: 0.0379 - a\n",
      "Epoch 4/8\n",
      "60000/60000 [==============================] - 16s 260us/step - loss: 0.0296 - acc: 0.9903\n",
      "Epoch 5/8\n",
      "60000/60000 [==============================] - 16s 261us/step - loss: 0.0234 - acc: 0.9924\n",
      "Epoch 6/8\n",
      "60000/60000 [==============================] - 16s 262us/step - loss: 0.0195 - acc: 0.9940\n",
      "Epoch 7/8\n",
      "60000/60000 [==============================] - 16s 262us/step - loss: 0.0163 - acc: 0.9948\n",
      "Epoch 8/8\n",
      "60000/60000 [==============================] - 16s 261us/step - loss: 0.0140 - acc: 0.99561s -\n",
      "10000/10000 [==============================] - 2s 182us/step\n",
      "\n",
      "test loss: 0.024875826230082065\n",
      "test accuracy: 0.9927\n"
     ]
    }
   ],
   "source": [
    "(x_train,y_train),(x_test,y_test) = mnist.load_data()\n",
    "x_train = x_train.reshape(-1,28,28,1)/255.0\n",
    "x_test = x_test.reshape(-1,28,28,1)/255.0\n",
    "y_train = np_utils.to_categorical(y_train,num_classes=10)\n",
    "y_test = np_utils.to_categorical(y_test,num_classes=10)\n",
    "\n",
    "model = Sequential([\n",
    "    Convolution2D(input_shape=(28,28,1),filters=16,kernel_size=4,strides=1,padding='same',activation='relu'),\n",
    "    MaxPooling2D(pool_size=2,strides=2,padding='same'),\n",
    "    Convolution2D(filters=32,kernel_size=4,strides=1,padding='same',activation='relu'),\n",
    "    MaxPooling2D(2,2,'same'),\n",
    "    Flatten(),\n",
    "    Dense(500,activation='relu'),\n",
    "    Dropout(0.4),\n",
    "    Dense(10,activation='softmax')\n",
    "])\n",
    "\n",
    "adam = Adam()\n",
    "\n",
    "model.compile(optimizer=adam,loss='categorical_crossentropy',metrics=['accuracy'])\n",
    "\n",
    "model.fit(x_train,y_train,batch_size=100,epochs=8)\n",
    "\n",
    "loss,accuracy = model.evaluate(x_test,y_test)\n",
    "\n",
    "print('\\ntest loss:',loss)\n",
    "print('test accuracy:',accuracy)"
   ]
  },
  {
   "cell_type": "code",
   "execution_count": null,
   "metadata": {},
   "outputs": [],
   "source": []
  }
 ],
 "metadata": {
  "kernelspec": {
   "display_name": "Python 3",
   "language": "python",
   "name": "python3"
  },
  "language_info": {
   "codemirror_mode": {
    "name": "ipython",
    "version": 3
   },
   "file_extension": ".py",
   "mimetype": "text/x-python",
   "name": "python",
   "nbconvert_exporter": "python",
   "pygments_lexer": "ipython3",
   "version": "3.6.5"
  }
 },
 "nbformat": 4,
 "nbformat_minor": 2
}
