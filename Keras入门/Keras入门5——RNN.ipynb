{
 "cells": [
  {
   "cell_type": "markdown",
   "metadata": {},
   "source": [
    "<font size=4 face='黑体'>RNN应用于mnist数据集分类"
   ]
  },
  {
   "cell_type": "code",
   "execution_count": 1,
   "metadata": {},
   "outputs": [
    {
     "name": "stderr",
     "output_type": "stream",
     "text": [
      "H:\\anaconda\\lib\\site-packages\\h5py\\__init__.py:36: FutureWarning: Conversion of the second argument of issubdtype from `float` to `np.floating` is deprecated. In future, it will be treated as `np.float64 == np.dtype(float).type`.\n",
      "  from ._conv import register_converters as _register_converters\n",
      "Using TensorFlow backend.\n"
     ]
    }
   ],
   "source": [
    "from keras.datasets import mnist\n",
    "from keras.utils import np_utils\n",
    "from keras.models import Sequential\n",
    "from keras.layers import Dense\n",
    "from keras.layers.recurrent import SimpleRNN\n",
    "from keras.optimizers import Adam"
   ]
  },
  {
   "cell_type": "code",
   "execution_count": 3,
   "metadata": {},
   "outputs": [
    {
     "name": "stdout",
     "output_type": "stream",
     "text": [
      "Epoch 1/10\n",
      "60000/60000 [==============================] - 25s 412us/step - loss: 0.8112 - acc: 0.7467\n",
      "Epoch 2/10\n",
      "60000/60000 [==============================] - 17s 284us/step - loss: 0.3509 - acc: 0.8974\n",
      "Epoch 3/10\n",
      "60000/60000 [==============================] - 17s 275us/step - loss: 0.2700 - acc: 0.9214\n",
      "Epoch 4/10\n",
      "60000/60000 [==============================] - 16s 259us/step - loss: 0.2266 - acc: 0.9346\n",
      "Epoch 5/10\n",
      "60000/60000 [==============================] - 16s 264us/step - loss: 0.2019 - acc: 0.9412\n",
      "Epoch 6/10\n",
      "60000/60000 [==============================] - 16s 266us/step - loss: 0.1843 - acc: 0.9461\n",
      "Epoch 7/10\n",
      "60000/60000 [==============================] - 16s 266us/step - loss: 0.1696 - acc: 0.9518\n",
      "Epoch 8/10\n",
      "60000/60000 [==============================] - 16s 265us/step - loss: 0.1574 - acc: 0.9545\n",
      "Epoch 9/10\n",
      "60000/60000 [==============================] - 17s 275us/step - loss: 0.1510 - acc: 0.9563\n",
      "Epoch 10/10\n",
      "60000/60000 [==============================] - 17s 278us/step - loss: 0.1405 - acc: 0.9590\n",
      "10000/10000 [==============================] - 3s 279us/step\n",
      "\n",
      "test loss: 0.17163240301012994\n",
      "test accuracy: 0.9486\n"
     ]
    }
   ],
   "source": [
    "(x_train,y_train),(x_test,y_test) = mnist.load_data()\n",
    "#(60000,28,28)  RNN需要格式为（样本个数、每个样本中的序列个数，每个序列的长度）的数据\n",
    "x_train = x_train/255.0\n",
    "x_test = x_test/255.0\n",
    "y_train = np_utils.to_categorical(y_train,num_classes=10)\n",
    "y_test = np_utils.to_categorical(y_test,num_classes=10)\n",
    "\n",
    "#每个序列的长度\n",
    "input_size = 28\n",
    "#每个样本中的序列个数\n",
    "time_steps = 28\n",
    "#隐藏层cell个数\n",
    "cell_size = 50\n",
    "\n",
    "#创建模型\n",
    "model = Sequential([\n",
    "    SimpleRNN(units=cell_size,input_shape=(time_steps,input_size)),\n",
    "    Dense(10,activation='softmax')\n",
    "])\n",
    "\n",
    "adam = Adam()\n",
    "model.compile(optimizer=adam,loss='categorical_crossentropy',metrics=['accuracy'])\n",
    "model.fit(x_train,y_train,batch_size=100,epochs=10)\n",
    "\n",
    "loss,accuracy = model.evaluate(x_test,y_test)\n",
    "\n",
    "print('\\ntest loss:',loss)\n",
    "print('test accuracy:',accuracy)"
   ]
  },
  {
   "cell_type": "code",
   "execution_count": null,
   "metadata": {},
   "outputs": [],
   "source": []
  }
 ],
 "metadata": {
  "kernelspec": {
   "display_name": "Python 3",
   "language": "python",
   "name": "python3"
  },
  "language_info": {
   "codemirror_mode": {
    "name": "ipython",
    "version": 3
   },
   "file_extension": ".py",
   "mimetype": "text/x-python",
   "name": "python",
   "nbconvert_exporter": "python",
   "pygments_lexer": "ipython3",
   "version": "3.6.5"
  }
 },
 "nbformat": 4,
 "nbformat_minor": 2
}
