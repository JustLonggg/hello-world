{
 "cells": [
  {
   "cell_type": "code",
   "execution_count": 21,
   "metadata": {},
   "outputs": [],
   "source": [
    "import pandas as pd\n",
    "import numpy as np\n",
    "from sklearn.model_selection import GridSearchCV\n",
    "import xgboost as xgb"
   ]
  },
  {
   "cell_type": "code",
   "execution_count": 22,
   "metadata": {},
   "outputs": [
    {
     "data": {
      "text/html": [
       "<div>\n",
       "<style scoped>\n",
       "    .dataframe tbody tr th:only-of-type {\n",
       "        vertical-align: middle;\n",
       "    }\n",
       "\n",
       "    .dataframe tbody tr th {\n",
       "        vertical-align: top;\n",
       "    }\n",
       "\n",
       "    .dataframe thead th {\n",
       "        text-align: right;\n",
       "    }\n",
       "</style>\n",
       "<table border=\"1\" class=\"dataframe\">\n",
       "  <thead>\n",
       "    <tr style=\"text-align: right;\">\n",
       "      <th></th>\n",
       "      <th>用户编码</th>\n",
       "      <th>用户实名制是否通过核实</th>\n",
       "      <th>用户年龄</th>\n",
       "      <th>是否大学生客户</th>\n",
       "      <th>是否黑名单客户</th>\n",
       "      <th>是否4G不健康客户</th>\n",
       "      <th>用户网龄（月）</th>\n",
       "      <th>用户最近一次缴费距今时长（月）</th>\n",
       "      <th>缴费用户最近一次缴费金额（元）</th>\n",
       "      <th>用户近6个月平均消费值（元）</th>\n",
       "      <th>...</th>\n",
       "      <th>中心化当月火车类应用使用次数</th>\n",
       "      <th>中心化当月旅游资讯类应用使用次数</th>\n",
       "      <th>个人价值准则</th>\n",
       "      <th>交费及时性2</th>\n",
       "      <th>支付方式</th>\n",
       "      <th>支付方式_0</th>\n",
       "      <th>支付方式_1</th>\n",
       "      <th>支付方式_2</th>\n",
       "      <th>花费稳定性</th>\n",
       "      <th>业务持久度</th>\n",
       "    </tr>\n",
       "  </thead>\n",
       "  <tbody>\n",
       "    <tr>\n",
       "      <th>0</th>\n",
       "      <td>a4651f98c82948b186bdcdc8108381b4</td>\n",
       "      <td>1</td>\n",
       "      <td>44</td>\n",
       "      <td>0</td>\n",
       "      <td>0</td>\n",
       "      <td>0</td>\n",
       "      <td>186</td>\n",
       "      <td>1</td>\n",
       "      <td>99.80</td>\n",
       "      <td>163.86</td>\n",
       "      <td>...</td>\n",
       "      <td>0.0</td>\n",
       "      <td>0.0030</td>\n",
       "      <td>1.230143</td>\n",
       "      <td>0.647399</td>\n",
       "      <td>1</td>\n",
       "      <td>0</td>\n",
       "      <td>1</td>\n",
       "      <td>0</td>\n",
       "      <td>0.942793</td>\n",
       "      <td>0.885730</td>\n",
       "    </tr>\n",
       "    <tr>\n",
       "      <th>1</th>\n",
       "      <td>aeb10247db4e4d67b2550bbc42ff9827</td>\n",
       "      <td>1</td>\n",
       "      <td>18</td>\n",
       "      <td>0</td>\n",
       "      <td>0</td>\n",
       "      <td>1</td>\n",
       "      <td>5</td>\n",
       "      <td>1</td>\n",
       "      <td>29.94</td>\n",
       "      <td>153.28</td>\n",
       "      <td>...</td>\n",
       "      <td>0.0</td>\n",
       "      <td>0.0000</td>\n",
       "      <td>0.577903</td>\n",
       "      <td>0.615740</td>\n",
       "      <td>1</td>\n",
       "      <td>0</td>\n",
       "      <td>1</td>\n",
       "      <td>0</td>\n",
       "      <td>0.916730</td>\n",
       "      <td>1.332870</td>\n",
       "    </tr>\n",
       "    <tr>\n",
       "      <th>2</th>\n",
       "      <td>5af23a1e0e77410abb25e9a7eee510aa</td>\n",
       "      <td>1</td>\n",
       "      <td>47</td>\n",
       "      <td>0</td>\n",
       "      <td>0</td>\n",
       "      <td>0</td>\n",
       "      <td>145</td>\n",
       "      <td>1</td>\n",
       "      <td>49.90</td>\n",
       "      <td>109.64</td>\n",
       "      <td>...</td>\n",
       "      <td>0.0</td>\n",
       "      <td>0.0001</td>\n",
       "      <td>0.290283</td>\n",
       "      <td>0.583120</td>\n",
       "      <td>1</td>\n",
       "      <td>0</td>\n",
       "      <td>1</td>\n",
       "      <td>0</td>\n",
       "      <td>1.048500</td>\n",
       "      <td>1.461867</td>\n",
       "    </tr>\n",
       "    <tr>\n",
       "      <th>3</th>\n",
       "      <td>43c64379d3c24a15b8478851b22049e4</td>\n",
       "      <td>1</td>\n",
       "      <td>55</td>\n",
       "      <td>0</td>\n",
       "      <td>0</td>\n",
       "      <td>0</td>\n",
       "      <td>234</td>\n",
       "      <td>1</td>\n",
       "      <td>99.80</td>\n",
       "      <td>92.97</td>\n",
       "      <td>...</td>\n",
       "      <td>0.0</td>\n",
       "      <td>0.0005</td>\n",
       "      <td>0.975668</td>\n",
       "      <td>0.616745</td>\n",
       "      <td>1</td>\n",
       "      <td>0</td>\n",
       "      <td>1</td>\n",
       "      <td>0</td>\n",
       "      <td>1.708890</td>\n",
       "      <td>0.978632</td>\n",
       "    </tr>\n",
       "    <tr>\n",
       "      <th>4</th>\n",
       "      <td>f1687f3b8a6f4910bd0b13eb634056e2</td>\n",
       "      <td>1</td>\n",
       "      <td>40</td>\n",
       "      <td>0</td>\n",
       "      <td>0</td>\n",
       "      <td>0</td>\n",
       "      <td>76</td>\n",
       "      <td>1</td>\n",
       "      <td>49.90</td>\n",
       "      <td>95.47</td>\n",
       "      <td>...</td>\n",
       "      <td>0.0</td>\n",
       "      <td>0.0000</td>\n",
       "      <td>0.525130</td>\n",
       "      <td>0.577611</td>\n",
       "      <td>1</td>\n",
       "      <td>0</td>\n",
       "      <td>1</td>\n",
       "      <td>0</td>\n",
       "      <td>1.005275</td>\n",
       "      <td>1.123176</td>\n",
       "    </tr>\n",
       "  </tbody>\n",
       "</table>\n",
       "<p>5 rows × 54 columns</p>\n",
       "</div>"
      ],
      "text/plain": [
       "                               用户编码  用户实名制是否通过核实  用户年龄  是否大学生客户  是否黑名单客户  \\\n",
       "0  a4651f98c82948b186bdcdc8108381b4            1    44        0        0   \n",
       "1  aeb10247db4e4d67b2550bbc42ff9827            1    18        0        0   \n",
       "2  5af23a1e0e77410abb25e9a7eee510aa            1    47        0        0   \n",
       "3  43c64379d3c24a15b8478851b22049e4            1    55        0        0   \n",
       "4  f1687f3b8a6f4910bd0b13eb634056e2            1    40        0        0   \n",
       "\n",
       "   是否4G不健康客户  用户网龄（月）  用户最近一次缴费距今时长（月）  缴费用户最近一次缴费金额（元）  用户近6个月平均消费值（元）  \\\n",
       "0          0      186                1            99.80          163.86   \n",
       "1          1        5                1            29.94          153.28   \n",
       "2          0      145                1            49.90          109.64   \n",
       "3          0      234                1            99.80           92.97   \n",
       "4          0       76                1            49.90           95.47   \n",
       "\n",
       "     ...     中心化当月火车类应用使用次数  中心化当月旅游资讯类应用使用次数    个人价值准则    交费及时性2  支付方式  \\\n",
       "0    ...                0.0            0.0030  1.230143  0.647399     1   \n",
       "1    ...                0.0            0.0000  0.577903  0.615740     1   \n",
       "2    ...                0.0            0.0001  0.290283  0.583120     1   \n",
       "3    ...                0.0            0.0005  0.975668  0.616745     1   \n",
       "4    ...                0.0            0.0000  0.525130  0.577611     1   \n",
       "\n",
       "   支付方式_0  支付方式_1  支付方式_2     花费稳定性     业务持久度  \n",
       "0       0       1       0  0.942793  0.885730  \n",
       "1       0       1       0  0.916730  1.332870  \n",
       "2       0       1       0  1.048500  1.461867  \n",
       "3       0       1       0  1.708890  0.978632  \n",
       "4       0       1       0  1.005275  1.123176  \n",
       "\n",
       "[5 rows x 54 columns]"
      ]
     },
     "execution_count": 22,
     "metadata": {},
     "output_type": "execute_result"
    }
   ],
   "source": [
    "data = pd.read_csv(r'F:\\DataFountain\\train_dataset\\train_dataset_3.csv')\n",
    "data.head(5)"
   ]
  },
  {
   "cell_type": "code",
   "execution_count": 24,
   "metadata": {},
   "outputs": [],
   "source": [
    "data = data.set_index(u'用户编码')"
   ]
  },
  {
   "cell_type": "code",
   "execution_count": 25,
   "metadata": {},
   "outputs": [
    {
     "data": {
      "text/plain": [
       "用户实名制是否通过核实          0.028929\n",
       "用户年龄                 0.037748\n",
       "是否大学生客户              0.025332\n",
       "是否黑名单客户              0.110346\n",
       "是否4G不健康客户           -0.147354\n",
       "用户网龄（月）              0.546903\n",
       "用户最近一次缴费距今时长（月）      0.213494\n",
       "缴费用户最近一次缴费金额（元）      0.350177\n",
       "用户近6个月平均消费值（元）       0.498078\n",
       "用户账单当月总费用（元）         0.452458\n",
       "用户当月账户余额（元）          0.188667\n",
       "缴费用户当前是否欠费缴费         0.089759\n",
       "用户话费敏感度             -0.240442\n",
       "当月通话交往圈人数            0.477218\n",
       "是否经常逛商场的人            0.113156\n",
       "近三个月月均商场出现次数         0.197656\n",
       "当月是否逛过福州仓山万达         0.051424\n",
       "当月是否到过福州山姆会员店        0.054157\n",
       "当月是否看电影              0.165271\n",
       "当月是否景点游览             0.270649\n",
       "当月是否体育场馆消费           0.232768\n",
       "当月网购类应用使用次数          0.160004\n",
       "当月物流快递类应用使用次数        0.001057\n",
       "当月金融理财类应用使用总次数       0.245951\n",
       "当月视频播放类应用使用次数        0.161497\n",
       "当月飞机类应用使用次数          0.029353\n",
       "当月火车类应用使用次数          0.032578\n",
       "当月旅游资讯类应用使用次数        0.022957\n",
       "信用分                  1.000000\n",
       "交费及时性                0.448478\n",
       "('当月缴费',)           -0.004687\n",
       "('次月缴费',)            0.213494\n",
       "('好久没缴费',)          -0.213949\n",
       "敏感度_1                0.065062\n",
       "敏感度_2                0.128039\n",
       "敏感度_3                0.097348\n",
       "敏感度_4               -0.013750\n",
       "敏感度_5               -0.251836\n",
       "中心化近三个月月均商场出现次数      0.197656\n",
       "中心化当月网购类应用使用次数       0.160004\n",
       "中心化当月金融理财类应用使用总次数    0.245951\n",
       "中心化当月视频播放类应用使用次数     0.161497\n",
       "中心化当月飞机类应用使用次数       0.029353\n",
       "中心化当月火车类应用使用次数       0.032578\n",
       "中心化当月旅游资讯类应用使用次数     0.022957\n",
       "个人价值准则               0.351767\n",
       "交费及时性2               0.453797\n",
       "支付方式                 0.198864\n",
       "支付方式_0              -0.213949\n",
       "支付方式_1               0.197134\n",
       "支付方式_2               0.025373\n",
       "花费稳定性                0.048302\n",
       "业务持久度                0.176699\n",
       "Name: 信用分, dtype: float64"
      ]
     },
     "execution_count": 25,
     "metadata": {},
     "output_type": "execute_result"
    }
   ],
   "source": [
    "data.corr()[u'信用分']"
   ]
  },
  {
   "cell_type": "code",
   "execution_count": 28,
   "metadata": {},
   "outputs": [],
   "source": [
    "x_train = data[[u'用户实名制是否通过核实',u'是否大学生客户',u'是否4G不健康客户',u'用户网龄（月）',u'用户最近一次缴费距今时长（月）',u'缴费用户最近一次缴费金额（元）',\n",
    "               u'用户近6个月平均消费值（元）',u'用户账单当月总费用（元）',u'用户当月账户余额（元）',u'当月通话交往圈人数',u'敏感度_1',\n",
    "              u'敏感度_2',u'敏感度_3',u'敏感度_4',u'敏感度_5',u'个人价值准则',u'支付方式_0',u'支付方式_1',u'支付方式_2',u'花费稳定性',\n",
    "              u'业务持久度']]\n",
    "y_train = data[u'信用分']"
   ]
  },
  {
   "cell_type": "code",
   "execution_count": 34,
   "metadata": {},
   "outputs": [
    {
     "name": "stdout",
     "output_type": "stream",
     "text": [
      "Fitting 5 folds for each of 5 candidates, totalling 25 fits\n"
     ]
    },
    {
     "name": "stderr",
     "output_type": "stream",
     "text": [
      "[Parallel(n_jobs=4)]: Using backend LokyBackend with 4 concurrent workers.\n",
      "[Parallel(n_jobs=4)]: Done  25 out of  25 | elapsed:  4.0min finished\n"
     ]
    },
    {
     "name": "stdout",
     "output_type": "stream",
     "text": [
      "参数的最佳取值： {'n_estimators': 240}\n",
      "最佳模型得分： -15.47118833916286\n"
     ]
    }
   ],
   "source": [
    "cv_params = {'n_estimators':[220,230,240,250,260]}\n",
    "other_params = {'learning_rate':0.1,'n_estimators':350,'max_depth':5,'min_child_weight':1,'seed':0,\n",
    "               'subsample':0.8,'colsample_bytree':0.8,'gamma':0,'reg_alpha':0,'reg_lambda':1}\n",
    "\n",
    "model = xgb.XGBRegressor(**other_params)\n",
    "optimized_GBM = GridSearchCV(estimator=model,param_grid=cv_params,scoring='neg_mean_absolute_error',cv=5,verbose=1,n_jobs=4)\n",
    "optimized_GBM.fit(x_train,y_train)\n",
    "#evalute_result = optimized_GBM.grid_scores_\n",
    "#print('每轮迭代运行结果：',evalute_result)\n",
    "print('参数的最佳取值：',optimized_GBM.best_params_)\n",
    "print('最佳模型得分：',optimized_GBM.best_score_)"
   ]
  },
  {
   "cell_type": "code",
   "execution_count": 35,
   "metadata": {},
   "outputs": [
    {
     "name": "stdout",
     "output_type": "stream",
     "text": [
      "Fitting 5 folds for each of 48 candidates, totalling 240 fits\n"
     ]
    },
    {
     "name": "stderr",
     "output_type": "stream",
     "text": [
      "[Parallel(n_jobs=4)]: Using backend LokyBackend with 4 concurrent workers.\n",
      "[Parallel(n_jobs=4)]: Done  42 tasks      | elapsed:  6.1min\n",
      "[Parallel(n_jobs=4)]: Done 192 tasks      | elapsed: 30.2min\n",
      "[Parallel(n_jobs=4)]: Done 240 out of 240 | elapsed: 42.4min finished\n"
     ]
    },
    {
     "name": "stdout",
     "output_type": "stream",
     "text": [
      "参数的最佳取值： {'max_depth': 5, 'min_child_weight': 4}\n",
      "最佳模型得分： -15.464887370794893\n"
     ]
    }
   ],
   "source": [
    "cv_params = {'max_depth':[3,4,5,6,7,8,9,10],'min_child_weight':[1,2,3,4,5,6]}\n",
    "other_params = {'learning_rate':0.1,'n_estimators':240,'max_depth':5,'min_child_weight':1,'seed':0,\n",
    "               'subsample':0.8,'colsample_bytree':0.8,'gamma':0,'reg_alpha':0,'reg_lambda':1}\n",
    "\n",
    "model = xgb.XGBRegressor(**other_params)\n",
    "optimized_GBM = GridSearchCV(estimator=model,param_grid=cv_params,scoring='neg_mean_absolute_error',cv=5,verbose=1,n_jobs=4)\n",
    "optimized_GBM.fit(x_train,y_train)\n",
    "print('参数的最佳取值：',optimized_GBM.best_params_)\n",
    "print('最佳模型得分：',optimized_GBM.best_score_)"
   ]
  },
  {
   "cell_type": "code",
   "execution_count": 36,
   "metadata": {},
   "outputs": [
    {
     "name": "stdout",
     "output_type": "stream",
     "text": [
      "Fitting 5 folds for each of 6 candidates, totalling 30 fits\n"
     ]
    },
    {
     "name": "stderr",
     "output_type": "stream",
     "text": [
      "[Parallel(n_jobs=4)]: Using backend LokyBackend with 4 concurrent workers.\n",
      "[Parallel(n_jobs=4)]: Done  30 out of  30 | elapsed:  4.4min finished\n"
     ]
    },
    {
     "name": "stdout",
     "output_type": "stream",
     "text": [
      "参数的最佳取值： {'gamma': 0.1}\n",
      "最佳模型得分： -15.464887370794893\n"
     ]
    }
   ],
   "source": [
    "cv_params = {'gamma':[0.1,0.2,0.3,0.4,0.5,0.6]}\n",
    "other_params = {'learning_rate':0.1,'n_estimators':240,'max_depth':5,'min_child_weight':4,'seed':0,\n",
    "               'subsample':0.8,'colsample_bytree':0.8,'gamma':0,'reg_alpha':0,'reg_lambda':1}\n",
    "\n",
    "model = xgb.XGBRegressor(**other_params)\n",
    "optimized_GBM = GridSearchCV(estimator=model,param_grid=cv_params,scoring='neg_mean_absolute_error',cv=5,verbose=1,n_jobs=4)\n",
    "optimized_GBM.fit(x_train,y_train)\n",
    "print('参数的最佳取值：',optimized_GBM.best_params_)\n",
    "print('最佳模型得分：',optimized_GBM.best_score_)"
   ]
  },
  {
   "cell_type": "code",
   "execution_count": 37,
   "metadata": {},
   "outputs": [
    {
     "name": "stdout",
     "output_type": "stream",
     "text": [
      "Fitting 5 folds for each of 16 candidates, totalling 80 fits\n"
     ]
    },
    {
     "name": "stderr",
     "output_type": "stream",
     "text": [
      "[Parallel(n_jobs=4)]: Using backend LokyBackend with 4 concurrent workers.\n",
      "[Parallel(n_jobs=4)]: Done  42 tasks      | elapsed:  5.3min\n",
      "[Parallel(n_jobs=4)]: Done  80 out of  80 | elapsed: 10.4min finished\n"
     ]
    },
    {
     "name": "stdout",
     "output_type": "stream",
     "text": [
      "参数的最佳取值： {'colsample_bytree': 0.6, 'subsample': 0.9}\n",
      "最佳模型得分： -15.450736359619135\n"
     ]
    }
   ],
   "source": [
    "cv_params = {'subsample':[0.6,0.7,0.8,0.9],'colsample_bytree':[0.6,0.7,0.8,0.9]}\n",
    "other_params = {'learning_rate':0.1,'n_estimators':240,'max_depth':5,'min_child_weight':4,'seed':0,\n",
    "               'subsample':0.8,'colsample_bytree':0.8,'gamma':0.1,'reg_alpha':0,'reg_lambda':1}\n",
    "\n",
    "model = xgb.XGBRegressor(**other_params)\n",
    "optimized_GBM = GridSearchCV(estimator=model,param_grid=cv_params,scoring='neg_mean_absolute_error',cv=5,verbose=1,n_jobs=4)\n",
    "optimized_GBM.fit(x_train,y_train)\n",
    "print('参数的最佳取值：',optimized_GBM.best_params_)\n",
    "print('最佳模型得分：',optimized_GBM.best_score_)"
   ]
  },
  {
   "cell_type": "code",
   "execution_count": 38,
   "metadata": {},
   "outputs": [
    {
     "name": "stdout",
     "output_type": "stream",
     "text": [
      "Fitting 5 folds for each of 36 candidates, totalling 180 fits\n"
     ]
    },
    {
     "name": "stderr",
     "output_type": "stream",
     "text": [
      "[Parallel(n_jobs=4)]: Using backend LokyBackend with 4 concurrent workers.\n",
      "[Parallel(n_jobs=4)]: Done  42 tasks      | elapsed:  5.1min\n",
      "[Parallel(n_jobs=4)]: Done 180 out of 180 | elapsed: 20.3min finished\n"
     ]
    },
    {
     "name": "stdout",
     "output_type": "stream",
     "text": [
      "参数的最佳取值： {'reg_alpha': 3, 'reg_lambda': 3}\n",
      "最佳模型得分： -15.441066376192301\n"
     ]
    }
   ],
   "source": [
    "cv_params = {'reg_alpha':[0.05,0.1,0.5,1,2,3],'reg_lambda':[0.05,0.1,0.5,1,2,3]}\n",
    "other_params = {'learning_rate':0.1,'n_estimators':240,'max_depth':5,'min_child_weight':4,'seed':0,\n",
    "               'subsample':0.9,'colsample_bytree':0.6,'gamma':0.1,'reg_alpha':0,'reg_lambda':1}\n",
    "\n",
    "model = xgb.XGBRegressor(**other_params)\n",
    "optimized_GBM = GridSearchCV(estimator=model,param_grid=cv_params,scoring='neg_mean_absolute_error',cv=5,verbose=1,n_jobs=4)\n",
    "optimized_GBM.fit(x_train,y_train)\n",
    "print('参数的最佳取值：',optimized_GBM.best_params_)\n",
    "print('最佳模型得分：',optimized_GBM.best_score_)"
   ]
  },
  {
   "cell_type": "code",
   "execution_count": 39,
   "metadata": {},
   "outputs": [
    {
     "name": "stdout",
     "output_type": "stream",
     "text": [
      "Fitting 5 folds for each of 5 candidates, totalling 25 fits\n"
     ]
    },
    {
     "name": "stderr",
     "output_type": "stream",
     "text": [
      "[Parallel(n_jobs=4)]: Using backend LokyBackend with 4 concurrent workers.\n",
      "[Parallel(n_jobs=4)]: Done  25 out of  25 | elapsed:  3.2min finished\n"
     ]
    },
    {
     "name": "stdout",
     "output_type": "stream",
     "text": [
      "参数的最佳取值： {'learning_rate': 0.07}\n",
      "最佳模型得分： -15.438118485267507\n"
     ]
    }
   ],
   "source": [
    "cv_params = {'learning_rate':0.1}\n",
    "other_params = {'learning_rate':0.1,'n_estimators':240,'max_depth':5,'min_child_weight':4,'seed':0,\n",
    "               'subsample':0.9,'colsample_bytree':0.6,'gamma':0.1,'reg_alpha':3,'reg_lambda':3}\n",
    "\n",
    "model = xgb.XGBRegressor(**other_params)\n",
    "optimized_GBM = GridSearchCV(estimator=model,param_grid=cv_params,scoring='neg_mean_absolute_error',cv=5,verbose=1,n_jobs=4)\n",
    "optimized_GBM.fit(x_train,y_train)\n",
    "print('参数的最佳取值：',optimized_GBM.best_params_)\n",
    "print('最佳模型得分：',optimized_GBM.best_score_)"
   ]
  },
  {
   "cell_type": "code",
   "execution_count": 40,
   "metadata": {},
   "outputs": [
    {
     "data": {
      "text/plain": [
       "XGBRegressor(base_score=0.5, booster='gbtree', colsample_bylevel=1,\n",
       "       colsample_bytree=0.6, gamma=0.1, learning_rate=0.07,\n",
       "       max_delta_step=0, max_depth=5, min_child_weight=4, missing=None,\n",
       "       n_estimators=240, n_jobs=1, nthread=None, objective='reg:linear',\n",
       "       random_state=0, reg_alpha=3, reg_lambda=3, scale_pos_weight=1,\n",
       "       seed=0, silent=True, subsample=0.9)"
      ]
     },
     "execution_count": 40,
     "metadata": {},
     "output_type": "execute_result"
    }
   ],
   "source": [
    "import matplotlib.pyplot as plt\n",
    "\n",
    "model = xgb.XGBRegressor(learning_rate=0.07,n_estimators=240,max_depth=5,min_child_weight=4,seed=0,\n",
    "                        subsample=0.9,colsample_bytree=0.6,gamma=0.1,reg_alpha=3,reg_lambda=3)\n",
    "model.fit(x_train,y_train)"
   ]
  },
  {
   "cell_type": "code",
   "execution_count": 43,
   "metadata": {},
   "outputs": [
    {
     "data": {
      "image/png": "[encoded data removed]",
      "text/plain": [
       "<Figure size 432x288 with 1 Axes>"
      ]
     },
     "metadata": {},
     "output_type": "display_data"
    }
   ],
   "source": [
    "from xgboost import plot_importance\n",
    "plt.rcParams['font.sans-serif'] = ['SimHei']\n",
    "plt.rcParams['axes.unicode_minus'] = False\n",
    "plot_importance(model)\n",
    "plt.show()"
   ]
  },
  {
   "cell_type": "code",
   "execution_count": 45,
   "metadata": {},
   "outputs": [],
   "source": [
    "test_data = pd.read_csv(r'F:\\DataFountain\\test_dataset\\test_dataset.csv')\n",
    "test_data.loc[test_data[u'用户话费敏感度']==0,u'用户话费敏感度'] = 3"
   ]
  },
  {
   "cell_type": "code",
   "execution_count": 55,
   "metadata": {},
   "outputs": [
    {
     "data": {
      "text/html": [
       "<div>\n",
       "<style scoped>\n",
       "    .dataframe tbody tr th:only-of-type {\n",
       "        vertical-align: middle;\n",
       "    }\n",
       "\n",
       "    .dataframe tbody tr th {\n",
       "        vertical-align: top;\n",
       "    }\n",
       "\n",
       "    .dataframe thead th {\n",
       "        text-align: right;\n",
       "    }\n",
       "</style>\n",
       "<table border=\"1\" class=\"dataframe\">\n",
       "  <thead>\n",
       "    <tr style=\"text-align: right;\">\n",
       "      <th></th>\n",
       "      <th>敏感度_1</th>\n",
       "      <th>敏感度_2</th>\n",
       "      <th>敏感度_3</th>\n",
       "      <th>敏感度_4</th>\n",
       "      <th>敏感度_5</th>\n",
       "    </tr>\n",
       "  </thead>\n",
       "  <tbody>\n",
       "    <tr>\n",
       "      <th>0</th>\n",
       "      <td>0</td>\n",
       "      <td>0</td>\n",
       "      <td>0</td>\n",
       "      <td>1</td>\n",
       "      <td>0</td>\n",
       "    </tr>\n",
       "    <tr>\n",
       "      <th>1</th>\n",
       "      <td>0</td>\n",
       "      <td>0</td>\n",
       "      <td>0</td>\n",
       "      <td>0</td>\n",
       "      <td>1</td>\n",
       "    </tr>\n",
       "    <tr>\n",
       "      <th>2</th>\n",
       "      <td>0</td>\n",
       "      <td>1</td>\n",
       "      <td>0</td>\n",
       "      <td>0</td>\n",
       "      <td>0</td>\n",
       "    </tr>\n",
       "    <tr>\n",
       "      <th>3</th>\n",
       "      <td>0</td>\n",
       "      <td>0</td>\n",
       "      <td>0</td>\n",
       "      <td>0</td>\n",
       "      <td>1</td>\n",
       "    </tr>\n",
       "    <tr>\n",
       "      <th>4</th>\n",
       "      <td>0</td>\n",
       "      <td>0</td>\n",
       "      <td>0</td>\n",
       "      <td>1</td>\n",
       "      <td>0</td>\n",
       "    </tr>\n",
       "  </tbody>\n",
       "</table>\n",
       "</div>"
      ],
      "text/plain": [
       "   敏感度_1  敏感度_2  敏感度_3  敏感度_4  敏感度_5\n",
       "0      0      0      0      1      0\n",
       "1      0      0      0      0      1\n",
       "2      0      1      0      0      0\n",
       "3      0      0      0      0      1\n",
       "4      0      0      0      1      0"
      ]
     },
     "execution_count": 55,
     "metadata": {},
     "output_type": "execute_result"
    }
   ],
   "source": [
    "b = pd.get_dummies(test_data[u'用户话费敏感度'],prefix='敏感度')\n",
    "b.head(5)"
   ]
  },
  {
   "cell_type": "code",
   "execution_count": 56,
   "metadata": {},
   "outputs": [],
   "source": [
    "test_data = test_data.join(b)"
   ]
  },
  {
   "cell_type": "code",
   "execution_count": 49,
   "metadata": {},
   "outputs": [],
   "source": [
    "test_data.loc[test_data[u'用户近6个月平均消费值（元）'] > 500,u'用户近6个月平均消费值（元）'] = 500"
   ]
  },
  {
   "cell_type": "code",
   "execution_count": 50,
   "metadata": {},
   "outputs": [],
   "source": [
    "test_data.loc[test_data[u'用户近6个月平均消费值（元）']==0,u'用户近6个月平均消费值（元）'] = test_data[u'用户近6个月平均消费值（元）'].mean()"
   ]
  },
  {
   "cell_type": "code",
   "execution_count": 51,
   "metadata": {},
   "outputs": [],
   "source": [
    "test_data.loc[test_data[u'用户账单当月总费用（元）'] > 500,u'用户账单当月总费用（元）'] = 500"
   ]
  },
  {
   "cell_type": "code",
   "execution_count": 52,
   "metadata": {},
   "outputs": [
    {
     "name": "stderr",
     "output_type": "stream",
     "text": [
      "H:\\anaconda\\lib\\site-packages\\pandas\\core\\indexing.py:189: SettingWithCopyWarning: \n",
      "A value is trying to be set on a copy of a slice from a DataFrame\n",
      "\n",
      "See the caveats in the documentation: http://pandas.pydata.org/pandas-docs/stable/indexing.html#indexing-view-versus-copy\n",
      "  self._setitem_with_indexer(indexer, value)\n"
     ]
    }
   ],
   "source": [
    "for index,i in enumerate(test_data[u'用户账单当月总费用（元）']):\n",
    "    if i == 0:\n",
    "        test_data[u'用户账单当月总费用（元）'].iloc[index] = test_data[u'用户近6个月平均消费值（元）'].iloc[index]"
   ]
  },
  {
   "cell_type": "code",
   "execution_count": 53,
   "metadata": {},
   "outputs": [],
   "source": [
    "test_data.loc[test_data[u'用户当月账户余额（元）'] > 500,u'用户当月账户余额（元）'] = 500"
   ]
  },
  {
   "cell_type": "code",
   "execution_count": 54,
   "metadata": {},
   "outputs": [],
   "source": [
    "test_data[u'支付方式'] = 0\n",
    "test_data.loc[test_data[u'缴费用户最近一次缴费金额（元）']%5 != 0,u'支付方式'] = 1\n",
    "test_data.loc[test_data[u'缴费用户最近一次缴费金额（元）']%5 == 0,u'支付方式'] = 2\n",
    "test_data.loc[test_data[u'缴费用户最近一次缴费金额（元）'] == 0,u'支付方式'] = 0\n",
    "b = pd.get_dummies(test_data[u'支付方式'],prefix='支付方式')\n",
    "test_data = test_data.join(b)"
   ]
  },
  {
   "cell_type": "code",
   "execution_count": 58,
   "metadata": {},
   "outputs": [],
   "source": [
    "test_data.loc[test_data[u'缴费用户最近一次缴费金额（元）'] > 230,u'缴费用户最近一次缴费金额（元）'] = 230"
   ]
  },
  {
   "cell_type": "code",
   "execution_count": 59,
   "metadata": {},
   "outputs": [],
   "source": [
    "test_data[u'中心化近三个月月均商场出现次数'] = test_data[u'近三个月月均商场出现次数']/(test_data[u'近三个月月均商场出现次数'].max())\n",
    "test_data.loc[test_data[u'当月网购类应用使用次数'] > 2000,u'当月网购类应用使用次数'] = 2000\n",
    "test_data.loc[test_data[u'当月金融理财类应用使用总次数'] > 2500,u'当月金融理财类应用使用总次数'] = 2500\n",
    "test_data.loc[test_data[u'当月视频播放类应用使用次数'] > 6000,u'当月视频播放类应用使用次数'] = 6000\n",
    "test_data.loc[test_data[u'当月飞机类应用使用次数'] > 1000,u'当月飞机类应用使用次数'] = 1000\n",
    "test_data.loc[test_data[u'当月火车类应用使用次数'] > 500,u'当月火车类应用使用次数'] = 500\n",
    "test_data.loc[test_data[u'当月旅游资讯类应用使用次数'] > 10000,u'当月旅游资讯类应用使用次数'] = 10000\n",
    "test_data[u'中心化当月网购类应用使用次数'] = (test_data[u'当月网购类应用使用次数'])/(test_data[u'当月网购类应用使用次数'].max())\n",
    "test_data[u'中心化当月金融理财类应用使用总次数'] = (test_data[u'当月金融理财类应用使用总次数'])/(test_data[u'当月金融理财类应用使用总次数'].max())\n",
    "test_data[u'中心化当月视频播放类应用使用次数'] = (test_data[u'当月视频播放类应用使用次数'])/(test_data[u'当月视频播放类应用使用次数'].max())\n",
    "test_data[u'中心化当月飞机类应用使用次数'] = (test_data[u'当月飞机类应用使用次数'])/(test_data[u'当月飞机类应用使用次数'].max())\n",
    "test_data[u'中心化当月火车类应用使用次数'] = (test_data[u'当月火车类应用使用次数'])/(test_data[u'当月火车类应用使用次数'].max())\n",
    "test_data[u'中心化当月旅游资讯类应用使用次数'] = (test_data[u'当月旅游资讯类应用使用次数'])/(test_data[u'当月旅游资讯类应用使用次数'].max())"
   ]
  },
  {
   "cell_type": "code",
   "execution_count": 60,
   "metadata": {},
   "outputs": [],
   "source": [
    "test_data[u'个人价值准则'] = test_data[u'中心化近三个月月均商场出现次数']*0.2 + test_data[u'中心化当月网购类应用使用次数']*0.16 + test_data[u'中心化当月金融理财类应用使用总次数']*0.24 + test_data[u'中心化当月视频播放类应用使用次数']*0.16 + test_data[u'中心化当月飞机类应用使用次数']*0.03 + test_data[u'中心化当月火车类应用使用次数']*0.03 + test_data[u'中心化当月旅游资讯类应用使用次数']*0.02+ test_data[u'是否经常逛商场的人']*0.11 + test_data[u'当月是否逛过福州仓山万达']*0.05 + test_data[u'当月是否到过福州山姆会员店']*0.05+ test_data[u'当月是否看电影']*0.17 + test_data[u'当月是否景点游览']*0.27 + test_data[u'当月是否体育场馆消费']*0.23"
   ]
  },
  {
   "cell_type": "code",
   "execution_count": 61,
   "metadata": {},
   "outputs": [],
   "source": [
    "test_data[u'花费稳定性'] = test_data[u'用户账单当月总费用（元）'] / (test_data[u'用户近6个月平均消费值（元）'] + 5 )\n",
    "test_data[u'业务持久度'] = (test_data[u'用户近6个月平均消费值（元）'] ) / (test_data[u'用户当月账户余额（元）'] + 5)"
   ]
  },
  {
   "cell_type": "code",
   "execution_count": 63,
   "metadata": {},
   "outputs": [],
   "source": [
    "test_data.to_csv(r'F:\\DataFountain\\test_dataset\\test_dataset_1.csv')"
   ]
  },
  {
   "cell_type": "code",
   "execution_count": 64,
   "metadata": {},
   "outputs": [],
   "source": [
    "x_test = test_data[[u'用户实名制是否通过核实',u'是否大学生客户',u'是否4G不健康客户',u'用户网龄（月）',u'用户最近一次缴费距今时长（月）',u'缴费用户最近一次缴费金额（元）',\n",
    "               u'用户近6个月平均消费值（元）',u'用户账单当月总费用（元）',u'用户当月账户余额（元）',u'当月通话交往圈人数',u'敏感度_1',\n",
    "              u'敏感度_2',u'敏感度_3',u'敏感度_4',u'敏感度_5',u'个人价值准则',u'支付方式_0',u'支付方式_1',u'支付方式_2',u'花费稳定性',\n",
    "              u'业务持久度']]\n",
    "pred = model.predict(x_test)"
   ]
  },
  {
   "cell_type": "code",
   "execution_count": 70,
   "metadata": {},
   "outputs": [
    {
     "data": {
      "text/plain": [
       "array([598, 527, 674, 673, 662])"
      ]
     },
     "execution_count": 70,
     "metadata": {},
     "output_type": "execute_result"
    }
   ],
   "source": [
    "pred = np.around(pred,0).astype(int)\n",
    "pred[0:5]"
   ]
  },
  {
   "cell_type": "code",
   "execution_count": 71,
   "metadata": {},
   "outputs": [],
   "source": [
    "ids = test_data[u'用户编码']\n",
    "submission = pd.Series(pred,index=ids)\n",
    "submission.to_csv(r'F:\\DataFountain\\submission.csv')"
   ]
  },
  {
   "cell_type": "code",
   "execution_count": null,
   "metadata": {},
   "outputs": [],
   "source": []
  }
 ],
 "metadata": {
  "kernelspec": {
   "display_name": "Python 3",
   "language": "python",
   "name": "python3"
  },
  "language_info": {
   "codemirror_mode": {
    "name": "ipython",
    "version": 3
   },
   "file_extension": ".py",
   "mimetype": "text/x-python",
   "name": "python",
   "nbconvert_exporter": "python",
   "pygments_lexer": "ipython3",
   "version": "3.6.5"
  }
 },
 "nbformat": 4,
 "nbformat_minor": 2
}
