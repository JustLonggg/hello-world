{
 "cells": [
  {
   "cell_type": "code",
   "execution_count": 1,
   "metadata": {},
   "outputs": [
    {
     "name": "stderr",
     "output_type": "stream",
     "text": [
      "H:\\anaconda\\lib\\site-packages\\h5py\\__init__.py:36: FutureWarning: Conversion of the second argument of issubdtype from `float` to `np.floating` is deprecated. In future, it will be treated as `np.float64 == np.dtype(float).type`.\n",
      "  from ._conv import register_converters as _register_converters\n"
     ]
    }
   ],
   "source": [
    "import tensorflow as tf\n",
    "import numpy as np"
   ]
  },
  {
   "cell_type": "markdown",
   "metadata": {},
   "source": [
    "<font size=4 face='黑体'>定义会话，启动默认图，创建节点op"
   ]
  },
  {
   "cell_type": "code",
   "execution_count": 2,
   "metadata": {},
   "outputs": [],
   "source": [
    "#创建常量op\n",
    "m1 = tf.constant([[3,3]])\n",
    "m2 = tf.constant([[2],[3]])\n",
    "#创建矩阵乘法op，传入m1,m2\n",
    "product = tf.matmul(m1,m2)"
   ]
  },
  {
   "cell_type": "code",
   "execution_count": 3,
   "metadata": {},
   "outputs": [
    {
     "name": "stdout",
     "output_type": "stream",
     "text": [
      "[[15]]\n"
     ]
    }
   ],
   "source": [
    "#定义一个会话，启动默认图\n",
    "with tf.Session() as sess:\n",
    "    result = sess.run(product)\n",
    "    print(result)"
   ]
  },
  {
   "cell_type": "markdown",
   "metadata": {},
   "source": [
    "<font size=4 faec='黑体'>变量"
   ]
  },
  {
   "cell_type": "code",
   "execution_count": 4,
   "metadata": {},
   "outputs": [
    {
     "name": "stdout",
     "output_type": "stream",
     "text": [
      "[-2 -1]\n",
      "[-1  1]\n"
     ]
    }
   ],
   "source": [
    "x = tf.Variable([1,2])\n",
    "a = tf.constant([3,3])\n",
    "#减法op\n",
    "sub = tf.subtract(x,a)\n",
    "#加法op\n",
    "add = tf.add(x,sub)\n",
    "#初始化全局变量\n",
    "init = tf.global_variables_initializer()\n",
    "\n",
    "with tf.Session() as sess:\n",
    "    sess.run(init)\n",
    "    print(sess.run(sub))\n",
    "    print(sess.run(add))"
   ]
  },
  {
   "cell_type": "code",
   "execution_count": 5,
   "metadata": {},
   "outputs": [
    {
     "name": "stdout",
     "output_type": "stream",
     "text": [
      "0\n",
      "1\n",
      "2\n",
      "3\n",
      "4\n",
      "5\n"
     ]
    }
   ],
   "source": [
    "#创建循环\n",
    "\n",
    "#初始化变量\n",
    "state = tf.Variable(0,name='counter')\n",
    "#创建op，使state加1\n",
    "new_value = tf.add(state,1)\n",
    "#创建赋值op(将后面的值赋给前面)\n",
    "update = tf.assign(state,new_value)\n",
    "\n",
    "init = tf.global_variables_initializer()\n",
    "\n",
    "with tf.Session() as sess:\n",
    "    sess.run(init)\n",
    "    print(sess.run(state))\n",
    "    for _ in range(5):\n",
    "        sess.run(update)\n",
    "        print(sess.run(state))"
   ]
  },
  {
   "cell_type": "markdown",
   "metadata": {},
   "source": [
    "<font size=4 face='黑体'>Fetch & Feed"
   ]
  },
  {
   "cell_type": "code",
   "execution_count": 6,
   "metadata": {},
   "outputs": [
    {
     "name": "stdout",
     "output_type": "stream",
     "text": [
      "[21, 7]\n"
     ]
    }
   ],
   "source": [
    "#Fetch：同时运行多个op\n",
    "input1 = tf.constant(3)\n",
    "input2 = tf.constant(2)\n",
    "input3 = tf.constant(5)\n",
    "\n",
    "add = tf.add(input2,input3)\n",
    "mul = tf.multiply(input1,add)\n",
    "\n",
    "with tf.Session() as sess:\n",
    "    result = sess.run([mul,add])\n",
    "    print(result)"
   ]
  },
  {
   "cell_type": "code",
   "execution_count": 7,
   "metadata": {},
   "outputs": [
    {
     "name": "stdout",
     "output_type": "stream",
     "text": [
      "[16.]\n"
     ]
    }
   ],
   "source": [
    "#Feed:运行op时，在进行赋值\n",
    "\n",
    "#创建占位符\n",
    "input1 = tf.placeholder(tf.float32)\n",
    "input2 = tf.placeholder(tf.float32)\n",
    "output = tf.multiply(input1,input2)\n",
    "\n",
    "with tf.Session() as sess:\n",
    "    #feed的数据以字典的形式传入\n",
    "    print(sess.run(output,feed_dict={input1:[8.],input2:[2.]}))"
   ]
  },
  {
   "cell_type": "markdown",
   "metadata": {},
   "source": [
    "<font size=4 face='黑体'>简单示例"
   ]
  },
  {
   "cell_type": "code",
   "execution_count": 8,
   "metadata": {},
   "outputs": [
    {
     "name": "stdout",
     "output_type": "stream",
     "text": [
      "0 [0.17781974, 0.8979078]\n",
      "100 [0.08294952, 0.20935313]\n",
      "200 [0.09876008, 0.20068017]\n",
      "300 [0.099909835, 0.20004946]\n",
      "400 [0.09999345, 0.2000036]\n",
      "500 [0.09999951, 0.20000027]\n",
      "600 [0.09999979, 0.20000012]\n",
      "700 [0.09999979, 0.20000012]\n",
      "800 [0.09999979, 0.20000012]\n",
      "900 [0.09999979, 0.20000012]\n",
      "1000 [0.09999979, 0.20000012]\n"
     ]
    }
   ],
   "source": [
    "#简单的线性回归\n",
    "x_data = np.random.rand(100)\n",
    "y_data = x_data * 0.1 + 0.2\n",
    "\n",
    "#构造线性模型\n",
    "b = tf.Variable(1.5)\n",
    "k = tf.Variable(0.5)\n",
    "y = k*x_data + b\n",
    "\n",
    "#均方误差损失函数\n",
    "loss = tf.reduce_mean(tf.square(y_data - y))\n",
    "#定义梯度下降法优化器\n",
    "optimizer = tf.train.GradientDescentOptimizer(0.2)  #0.2为学习率\n",
    "#最小化损失函数\n",
    "train = optimizer.minimize(loss)\n",
    "\n",
    "init = tf.global_variables_initializer()\n",
    "\n",
    "with tf.Session() as sess:\n",
    "    sess.run(init)\n",
    "    for step in range(1001):\n",
    "        sess.run(train)\n",
    "        if step%100 == 0:\n",
    "            print(step,sess.run([k,b]))"
   ]
  },
  {
   "cell_type": "code",
   "execution_count": 12,
   "metadata": {},
   "outputs": [
    {
     "data": {
      "image/png": "[encoded data removed]",
      "text/plain": [
       "<Figure size 432x288 with 1 Axes>"
      ]
     },
     "metadata": {},
     "output_type": "display_data"
    }
   ],
   "source": [
    "#简单的2层神经网络进行回归\n",
    "import matplotlib.pyplot as plt\n",
    "\n",
    "x_data = np.linspace(-0.5,0.5,200)[:,np.newaxis]\n",
    "noise = np.random.normal(0,0.05,x_data.shape)\n",
    "y_data = np.square(x_data) + noise\n",
    "\n",
    "x = tf.placeholder(tf.float32,[None,1])\n",
    "y = tf.placeholder(tf.float32,[None,1])\n",
    "\n",
    "#定义隐藏层\n",
    "W1 = tf.Variable(tf.random_normal([1,10]))\n",
    "b1 = tf.Variable(tf.zeros([1,10]))\n",
    "a1 = tf.matmul(x,W1) + b1\n",
    "L1 = tf.nn.tanh(a1)\n",
    "\n",
    "#定义输出层\n",
    "W2 = tf.Variable(tf.random_normal([10,1]))\n",
    "b2 = tf.Variable(tf.zeros([1,1]))\n",
    "a2 = tf.matmul(L1,W2) + b2\n",
    "prediction = tf.nn.tanh(a2)\n",
    "\n",
    "#损失函数\n",
    "loss = tf.reduce_mean(tf.square(y - prediction))\n",
    "#梯度下降法训练\n",
    "train_step = tf.train.GradientDescentOptimizer(0.2).minimize(loss)\n",
    "\n",
    "with tf.Session() as sess:\n",
    "    sess.run(tf.global_variables_initializer())\n",
    "    for i in range(2000):\n",
    "        sess.run(train_step,feed_dict={x:x_data,y:y_data})\n",
    "    \n",
    "    prediction_value = sess.run(prediction,feed_dict={x:x_data})\n",
    "    \n",
    "    plt.plot(x_data,y_data,'b*')\n",
    "    plt.plot(x_data,prediction_value,'r-')\n",
    "    plt.show()"
   ]
  },
  {
   "cell_type": "markdown",
   "metadata": {},
   "source": [
    "<font size=4 face='黑体'>简单版本的MNIST数据集分类"
   ]
  },
  {
   "cell_type": "code",
   "execution_count": 2,
   "metadata": {},
   "outputs": [],
   "source": [
    "from tensorflow.examples.tutorials.mnist import input_data"
   ]
  },
  {
   "cell_type": "code",
   "execution_count": 3,
   "metadata": {},
   "outputs": [
    {
     "name": "stdout",
     "output_type": "stream",
     "text": [
      "Extracting F:\\data\\mnist_data\\MNIST_data\\train-images-idx3-ubyte.gz\n",
      "Extracting F:\\data\\mnist_data\\MNIST_data\\train-labels-idx1-ubyte.gz\n",
      "Extracting F:\\data\\mnist_data\\MNIST_data\\t10k-images-idx3-ubyte.gz\n",
      "Extracting F:\\data\\mnist_data\\MNIST_data\\t10k-labels-idx1-ubyte.gz\n"
     ]
    }
   ],
   "source": [
    "#载入数据集\n",
    "mnist = input_data.read_data_sets(r'F:\\data\\mnist_data\\MNIST_data',one_hot=True)"
   ]
  },
  {
   "cell_type": "code",
   "execution_count": 5,
   "metadata": {},
   "outputs": [
    {
     "name": "stdout",
     "output_type": "stream",
     "text": [
      "Iter0Testing  Accuracy:0.9251\n",
      "Iter1Testing  Accuracy:0.9437\n",
      "Iter2Testing  Accuracy:0.9556\n",
      "Iter3Testing  Accuracy:0.9632\n",
      "Iter4Testing  Accuracy:0.9658\n",
      "Iter5Testing  Accuracy:0.9713\n",
      "Iter6Testing  Accuracy:0.9717\n",
      "Iter7Testing  Accuracy:0.9703\n",
      "Iter8Testing  Accuracy:0.9722\n",
      "Iter9Testing  Accuracy:0.9727\n",
      "Iter10Testing  Accuracy:0.9739\n",
      "Iter11Testing  Accuracy:0.9755\n",
      "Iter12Testing  Accuracy:0.9763\n",
      "Iter13Testing  Accuracy:0.9763\n",
      "Iter14Testing  Accuracy:0.975\n",
      "Iter15Testing  Accuracy:0.9752\n",
      "Iter16Testing  Accuracy:0.9762\n",
      "Iter17Testing  Accuracy:0.9762\n",
      "Iter18Testing  Accuracy:0.9766\n",
      "Iter19Testing  Accuracy:0.9773\n",
      "Iter20Testing  Accuracy:0.9771\n"
     ]
    }
   ],
   "source": [
    "batch_size = 100\n",
    "n_batch = mnist.train.num_examples // batch_size\n",
    "\n",
    "x = tf.placeholder(tf.float32,[None,784])\n",
    "y = tf.placeholder(tf.float32,[None,10])\n",
    "\n",
    "W1 = tf.Variable(tf.random_normal([784,100]) * 0.01)\n",
    "b1 = tf.Variable(tf.zeros([100]))\n",
    "a1 = tf.matmul(x,W1) + b1\n",
    "L1 = tf.nn.relu(a1)\n",
    "\n",
    "W2 = tf.Variable(tf.random_normal([100,10]) * 0.01)\n",
    "b2 = tf.Variable(tf.zeros([10]))\n",
    "a2 = tf.matmul(L1,W2) + b2\n",
    "prediction = tf.nn.softmax(a2)\n",
    "\n",
    "#交叉熵损失函数\n",
    "#cross_entropy = -tf.reduce_mean(y*tf.log(tf.clip_by_value(prediction,1e-10,1.0)))\n",
    "#tf.clip_by_value(v,a,b)表示把v限制在a~b的范围内\n",
    "cross_entropy = tf.reduce_mean(tf.nn.softmax_cross_entropy_with_logits(labels=y,logits=a2))\n",
    "train_step = tf.train.GradientDescentOptimizer(0.2).minimize(cross_entropy)\n",
    "\n",
    "init = tf.global_variables_initializer()\n",
    "\n",
    "#求准确率\n",
    "correct = tf.equal(tf.argmax(y,1),tf.argmax(prediction,1))  #equal：判断是否相等并返回bool型数组\n",
    "accuracy = tf.reduce_mean(tf.cast(correct,tf.float32)) \n",
    "\n",
    "with tf.Session() as sess:\n",
    "    sess.run(init)\n",
    "    for epoch in range(21):\n",
    "        for batch in range(n_batch):\n",
    "            batch_x,batch_y = mnist.train.next_batch(batch_size)\n",
    "            sess.run(train_step,feed_dict={x:batch_x,y:batch_y})\n",
    "            \n",
    "        acc = sess.run(accuracy,feed_dict={x:mnist.test.images,y:mnist.test.labels})\n",
    "        print('Iter'+str(epoch)+'Testing  Accuracy:'+str(acc))"
   ]
  },
  {
   "cell_type": "markdown",
   "metadata": {},
   "source": [
    "<font size=4 face='黑体'>dropout:防止过拟合"
   ]
  },
  {
   "cell_type": "code",
   "execution_count": 8,
   "metadata": {},
   "outputs": [
    {
     "name": "stdout",
     "output_type": "stream",
     "text": [
      "Iter0 Testing  Accuracy:0.9286 Train Accuracy:0.92734545\n",
      "Iter1 Testing  Accuracy:0.9471 Train Accuracy:0.9459818\n",
      "Iter2 Testing  Accuracy:0.9521 Train Accuracy:0.95583636\n",
      "Iter3 Testing  Accuracy:0.9557 Train Accuracy:0.9599636\n",
      "Iter4 Testing  Accuracy:0.9598 Train Accuracy:0.96509093\n",
      "Iter5 Testing  Accuracy:0.9612 Train Accuracy:0.96772724\n",
      "Iter6 Testing  Accuracy:0.9647 Train Accuracy:0.9709091\n",
      "Iter7 Testing  Accuracy:0.9638 Train Accuracy:0.97261816\n",
      "Iter8 Testing  Accuracy:0.9673 Train Accuracy:0.97458184\n",
      "Iter9 Testing  Accuracy:0.9664 Train Accuracy:0.9749454\n",
      "Iter10 Testing  Accuracy:0.9677 Train Accuracy:0.9754909\n",
      "Iter11 Testing  Accuracy:0.9708 Train Accuracy:0.9784182\n",
      "Iter12 Testing  Accuracy:0.9701 Train Accuracy:0.97925454\n",
      "Iter13 Testing  Accuracy:0.9716 Train Accuracy:0.9802182\n",
      "Iter14 Testing  Accuracy:0.9698 Train Accuracy:0.9804364\n",
      "Iter15 Testing  Accuracy:0.9705 Train Accuracy:0.98087275\n",
      "Iter16 Testing  Accuracy:0.9725 Train Accuracy:0.98303634\n",
      "Iter17 Testing  Accuracy:0.9744 Train Accuracy:0.9834545\n",
      "Iter18 Testing  Accuracy:0.974 Train Accuracy:0.98367274\n",
      "Iter19 Testing  Accuracy:0.9748 Train Accuracy:0.9852727\n",
      "Iter20 Testing  Accuracy:0.976 Train Accuracy:0.98654544\n"
     ]
    }
   ],
   "source": [
    "batch_size = 100\n",
    "n_batch = mnist.train.num_examples // batch_size\n",
    "\n",
    "x = tf.placeholder(tf.float32,[None,784])\n",
    "y = tf.placeholder(tf.float32,[None,10])\n",
    "keep_prob = tf.placeholder(tf.float32)\n",
    "\n",
    "#创建一个复杂的神经网络，如果不使用dropout会发生过拟合\n",
    "W1 = tf.Variable(tf.truncated_normal([784,1000],stddev=0.1))\n",
    "b1 = tf.Variable(tf.zeros([1000]) + 0.1)\n",
    "a1 = tf.matmul(x,W1) + b1\n",
    "L1 = tf.nn.relu(a1)\n",
    "L1_drop = tf.nn.dropout(L1,keep_prob)\n",
    "\n",
    "W2 = tf.Variable(tf.truncated_normal([1000,500],stddev=0.1))\n",
    "b2 = tf.Variable(tf.zeros([500]) + 0.1)\n",
    "a2 = tf.matmul(L1_drop,W2) + b2\n",
    "L2 = tf.nn.relu(a2)\n",
    "L2_drop = tf.nn.dropout(L2,keep_prob)\n",
    "\n",
    "W3 = tf.Variable(tf.truncated_normal([500,10],stddev=0.1))\n",
    "b3 = tf.Variable(tf.zeros([10]) + 0.1)\n",
    "a3 = tf.matmul(L2_drop,W3) + b3\n",
    "prediction = tf.nn.softmax(a3)\n",
    "\n",
    "#交叉熵损失函数\n",
    "#cross_entropy = -tf.reduce_mean(y*tf.log(tf.clip_by_value(prediction,1e-10,1.0)))\n",
    "#tf.clip_by_value(v,a,b)表示把v限制在a~b的范围内\n",
    "cross_entropy = tf.reduce_mean(tf.nn.softmax_cross_entropy_with_logits(labels=y,logits=a3))\n",
    "train_step = tf.train.GradientDescentOptimizer(0.2).minimize(cross_entropy)\n",
    "\n",
    "init = tf.global_variables_initializer()\n",
    "\n",
    "#求准确率\n",
    "correct = tf.equal(tf.argmax(y,1),tf.argmax(prediction,1))  #equal：判断是否相等并返回bool型数组\n",
    "accuracy = tf.reduce_mean(tf.cast(correct,tf.float32)) \n",
    "\n",
    "with tf.Session() as sess:\n",
    "    sess.run(init)\n",
    "    for epoch in range(21):\n",
    "        for batch in range(n_batch):\n",
    "            batch_x,batch_y = mnist.train.next_batch(batch_size)\n",
    "            sess.run(train_step,feed_dict={x:batch_x,y:batch_y,keep_prob:0.3})\n",
    "            \n",
    "        test_acc = sess.run(accuracy,feed_dict={x:mnist.test.images,y:mnist.test.labels,keep_prob:1.0})\n",
    "        train_acc = sess.run(accuracy,feed_dict={x:mnist.train.images,y:mnist.train.labels,keep_prob:1.0})\n",
    "        print('Iter'+str(epoch)+' Testing  Accuracy:'+str(test_acc)+' Train Accuracy:'+str(train_acc))"
   ]
  },
  {
   "cell_type": "markdown",
   "metadata": {},
   "source": [
    "<font size=4 face='黑体'>不同的optimizer"
   ]
  },
  {
   "cell_type": "code",
   "execution_count": 20,
   "metadata": {
    "collapsed": true
   },
   "outputs": [
    {
     "name": "stdout",
     "output_type": "stream",
     "text": [
      "Iter0Testing  Accuracy:0.9649\n",
      "Iter1Testing  Accuracy:0.9727\n",
      "Iter2Testing  Accuracy:0.975\n",
      "Iter3Testing  Accuracy:0.9767\n",
      "Iter4Testing  Accuracy:0.9802\n",
      "Iter5Testing  Accuracy:0.9769\n",
      "Iter6Testing  Accuracy:0.9788\n",
      "Iter7Testing  Accuracy:0.9773\n",
      "Iter8Testing  Accuracy:0.9793\n",
      "Iter9Testing  Accuracy:0.9808\n",
      "Iter10Testing  Accuracy:0.9806\n",
      "Iter11Testing  Accuracy:0.9809\n",
      "Iter12Testing  Accuracy:0.9808\n",
      "Iter13Testing  Accuracy:0.9781\n",
      "Iter14Testing  Accuracy:0.9807\n",
      "Iter15Testing  Accuracy:0.9807\n",
      "Iter16Testing  Accuracy:0.9823\n",
      "Iter17Testing  Accuracy:0.9827\n",
      "Iter18Testing  Accuracy:0.983\n",
      "Iter19Testing  Accuracy:0.9831\n",
      "Iter20Testing  Accuracy:0.983\n",
      "Iter21Testing  Accuracy:0.9831\n",
      "Iter22Testing  Accuracy:0.9834\n",
      "Iter23Testing  Accuracy:0.9834\n",
      "Iter24Testing  Accuracy:0.9834\n",
      "Iter25Testing  Accuracy:0.9833\n",
      "Iter26Testing  Accuracy:0.9832\n",
      "Iter27Testing  Accuracy:0.9815\n",
      "Iter28Testing  Accuracy:0.9826\n",
      "Iter29Testing  Accuracy:0.9825\n",
      "Iter30Testing  Accuracy:0.9829\n"
     ]
    }
   ],
   "source": [
    "batch_size = 100\n",
    "n_batch = mnist.train.num_examples // batch_size\n",
    "\n",
    "x = tf.placeholder(tf.float32,[None,784])\n",
    "y = tf.placeholder(tf.float32,[None,10])\n",
    "\n",
    "W1 = tf.Variable(tf.truncated_normal([784,500],stddev=0.1))\n",
    "b1 = tf.Variable(tf.zeros([500]) + 0.1)\n",
    "a1 = tf.matmul(x,W1) + b1\n",
    "L1 = tf.nn.relu(a1)\n",
    "\n",
    "W2 = tf.Variable(tf.truncated_normal([500,100],stddev=0.1))\n",
    "b2 = tf.Variable(tf.zeros([100]) + 0.1)\n",
    "a2 = tf.matmul(L1,W2) + b2\n",
    "L2 = tf.nn.relu(a2)\n",
    "\n",
    "W3 = tf.Variable(tf.truncated_normal([100,10],stddev=0.1))\n",
    "b3 = tf.Variable(tf.zeros([10]) + 0.1)\n",
    "a3 = tf.matmul(L2,W3) + b3\n",
    "prediction = tf.nn.softmax(a3)\n",
    "\n",
    "lr = tf.Variable(0.001)\n",
    "\n",
    "#交叉熵损失函数\n",
    "#cross_entropy = -tf.reduce_mean(y*tf.log(tf.clip_by_value(prediction,1e-10,1.0)))\n",
    "#tf.clip_by_value(v,a,b)表示把v限制在a~b的范围内\n",
    "cross_entropy = tf.reduce_mean(tf.nn.softmax_cross_entropy_with_logits(labels=y,logits=a3))\n",
    "#Adam优化器\n",
    "train_step = tf.train.AdamOptimizer(lr).minimize(cross_entropy)\n",
    "#Adagrad优化器\n",
    "#train_step = tf.train.GradientDescentOptimizer(0.2).minimize(cross_entropy)\n",
    "init = tf.global_variables_initializer()\n",
    "\n",
    "#求准确率\n",
    "correct = tf.equal(tf.argmax(y,1),tf.argmax(prediction,1))  #equal：判断是否相等并返回bool型数组\n",
    "accuracy = tf.reduce_mean(tf.cast(correct,tf.float32)) \n",
    "\n",
    "with tf.Session() as sess:\n",
    "    sess.run(init)\n",
    "    for epoch in range(31):\n",
    "        sess.run(tf.assign(lr,0.001*(0.95 ** epoch)))\n",
    "        for batch in range(n_batch):\n",
    "            batch_x,batch_y = mnist.train.next_batch(batch_size)\n",
    "            sess.run(train_step,feed_dict={x:batch_x,y:batch_y})\n",
    "            \n",
    "        acc = sess.run(accuracy,feed_dict={x:mnist.test.images,y:mnist.test.labels})\n",
    "        print('Iter'+str(epoch)+'Testing  Accuracy:'+str(acc))"
   ]
  },
  {
   "cell_type": "markdown",
   "metadata": {},
   "source": [
    "<font size=4 face='黑体'>Saver & restore"
   ]
  },
  {
   "cell_type": "code",
   "execution_count": 5,
   "metadata": {},
   "outputs": [
    {
     "name": "stdout",
     "output_type": "stream",
     "text": [
      "Iter0Testing  Accuracy:0.9069\n",
      "Iter1Testing  Accuracy:0.9156\n",
      "Iter2Testing  Accuracy:0.9185\n",
      "Iter3Testing  Accuracy:0.9218\n",
      "Iter4Testing  Accuracy:0.921\n",
      "Iter5Testing  Accuracy:0.9219\n",
      "Iter6Testing  Accuracy:0.9228\n",
      "Iter7Testing  Accuracy:0.921\n",
      "Iter8Testing  Accuracy:0.9238\n",
      "Iter9Testing  Accuracy:0.9227\n",
      "Iter10Testing  Accuracy:0.9216\n"
     ]
    }
   ],
   "source": [
    "batch_size = 100\n",
    "n_batch = mnist.train.num_examples // batch_size\n",
    "\n",
    "x = tf.placeholder(tf.float32,[None,784])\n",
    "y = tf.placeholder(tf.float32,[None,10])\n",
    "\n",
    "W = tf.Variable(tf.zeros([784,10]))\n",
    "b = tf.Variable(tf.zeros([10]))\n",
    "a = tf.matmul(x,W) + b\n",
    "prediction = tf.nn.softmax(a)\n",
    "\n",
    "cross_entropy = tf.reduce_mean(tf.nn.softmax_cross_entropy_with_logits(labels=y,logits=a))\n",
    "train_step = tf.train.GradientDescentOptimizer(0.2).minimize(cross_entropy)\n",
    "\n",
    "init = tf.global_variables_initializer()\n",
    "\n",
    "#求准确率\n",
    "correct = tf.equal(tf.argmax(y,1),tf.argmax(prediction,1))  #equal：判断是否相等并返回bool型数组\n",
    "accuracy = tf.reduce_mean(tf.cast(correct,tf.float32)) \n",
    "\n",
    "saver = tf.train.Saver()\n",
    "\n",
    "with tf.Session() as sess:\n",
    "    sess.run(init)\n",
    "    for epoch in range(11):\n",
    "        for batch in range(n_batch):\n",
    "            batch_x,batch_y = mnist.train.next_batch(batch_size)\n",
    "            sess.run(train_step,feed_dict={x:batch_x,y:batch_y})\n",
    "            \n",
    "        acc = sess.run(accuracy,feed_dict={x:mnist.test.images,y:mnist.test.labels})\n",
    "        print('Iter'+str(epoch)+'Testing  Accuracy:'+str(acc))\n",
    "        \n",
    "    saver.save(sess,'modelsaver/mnist8-2/test.ckpt')"
   ]
  },
  {
   "cell_type": "code",
   "execution_count": 4,
   "metadata": {},
   "outputs": [
    {
     "name": "stdout",
     "output_type": "stream",
     "text": [
      "INFO:tensorflow:Restoring parameters from modelsaver/mnist8-2/test.ckpt\n",
      "Init Accuracy:0.098\n",
      "Restore Accuracy:0.098\n"
     ]
    }
   ],
   "source": [
    "batch_size = 100\n",
    "n_batch = mnist.train.num_examples // batch_size\n",
    "\n",
    "x = tf.placeholder(tf.float32,[None,784])\n",
    "y = tf.placeholder(tf.float32,[None,10])\n",
    "\n",
    "W = tf.Variable(tf.zeros([784,10]))\n",
    "b = tf.Variable(tf.zeros([10]))\n",
    "a = tf.matmul(x,W) + b\n",
    "prediction = tf.nn.softmax(a)\n",
    "\n",
    "cross_entropy = tf.reduce_mean(tf.nn.softmax_cross_entropy_with_logits(labels=y,logits=a))\n",
    "train_step = tf.train.GradientDescentOptimizer(0.2).minimize(cross_entropy)\n",
    "\n",
    "init = tf.global_variables_initializer()\n",
    "\n",
    "#求准确率\n",
    "correct = tf.equal(tf.argmax(y,1),tf.argmax(prediction,1))  #equal：判断是否相等并返回bool型数组\n",
    "accuracy = tf.reduce_mean(tf.cast(correct,tf.float32)) \n",
    "\n",
    "saver = tf.train.Saver()\n",
    "\n",
    "with tf.Session() as sess:\n",
    "    sess.run(init)\n",
    "    acc1 = sess.run(accuracy,feed_dict={x:mnist.test.images,y:mnist.test.labels})\n",
    "    saver.restore(sess,'modelsaver/mnist8-2/test.ckpt')\n",
    "    acc2 = sess.run(accuracy,feed_dict={x:mnist.test.images,y:mnist.test.labels})\n",
    "    print('Init Accuracy:'+str(acc1))\n",
    "    print('Restore Accuracy:'+str(acc2))"
   ]
  },
  {
   "cell_type": "code",
   "execution_count": null,
   "metadata": {},
   "outputs": [],
   "source": []
  }
 ],
 "metadata": {
  "kernelspec": {
   "display_name": "Python 3",
   "language": "python",
   "name": "python3"
  },
  "language_info": {
   "codemirror_mode": {
    "name": "ipython",
    "version": 3
   },
   "file_extension": ".py",
   "mimetype": "text/x-python",
   "name": "python",
   "nbconvert_exporter": "python",
   "pygments_lexer": "ipython3",
   "version": "3.6.5"
  }
 },
 "nbformat": 4,
 "nbformat_minor": 2
}
