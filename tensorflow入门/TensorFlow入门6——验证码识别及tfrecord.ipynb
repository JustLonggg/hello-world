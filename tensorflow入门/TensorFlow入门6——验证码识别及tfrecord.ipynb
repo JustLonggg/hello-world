{
 "cells": [
  {
   "cell_type": "markdown",
   "metadata": {},
   "source": [
    "<font size=4 face='黑体'>生成验证码"
   ]
  },
  {
   "cell_type": "code",
   "execution_count": 1,
   "metadata": {},
   "outputs": [
    {
     "name": "stdout",
     "output_type": "stream",
     "text": [
      "Collecting captcha\n",
      "  Downloading https://files.pythonhosted.org/packages/90/fe/d4ddf1e6576073b5eaea76e9b2afa022c626212a30c871968480be3ccb7b/captcha-0.3-py3-none-any.whl (101kB)\n",
      "Requirement already satisfied: Pillow in h:\\anaconda\\lib\\site-packages (from captcha) (5.4.1)\n",
      "Installing collected packages: captcha\n",
      "Successfully installed captcha-0.3\n"
     ]
    }
   ],
   "source": [
    "!pip install captcha"
   ]
  },
  {
   "cell_type": "code",
   "execution_count": 2,
   "metadata": {},
   "outputs": [
    {
     "name": "stderr",
     "output_type": "stream",
     "text": [
      "H:\\anaconda\\lib\\site-packages\\h5py\\__init__.py:36: FutureWarning: Conversion of the second argument of issubdtype from `float` to `np.floating` is deprecated. In future, it will be treated as `np.float64 == np.dtype(float).type`.\n",
      "  from ._conv import register_converters as _register_converters\n"
     ]
    }
   ],
   "source": [
    "from captcha.image import ImageCaptcha\n",
    "import numpy as np\n",
    "from PIL import Image\n",
    "import random\n",
    "import sys\n",
    "import os\n",
    "import tensorflow as tf\n",
    "import matplotlib.pyplot as plt"
   ]
  },
  {
   "cell_type": "code",
   "execution_count": 4,
   "metadata": {},
   "outputs": [
    {
     "name": "stdout",
     "output_type": "stream",
     "text": [
      "['0', '1', '2', '3', '4', '5', '6', '7', '8', '9']\n",
      "['a', 'b', 'c', 'd', 'e', 'f', 'g', 'h', 'i', 'j', 'k', 'l', 'm', 'n', 'o', 'p', 'q', 'r', 's', 't', 'u', 'v', 'w', 'x', 'y', 'z']\n",
      "['A', 'B', 'C', 'D', 'E', 'F', 'G', 'H', 'I', 'J', 'K', 'L', 'M', 'N', 'O', 'P', 'Q', 'R', 'S', 'T', 'U', 'V', 'W', 'X', 'Y', 'Z']\n"
     ]
    }
   ],
   "source": [
    "number = [str(i) for i in range(10)]\n",
    "little_chr = [chr(i) for i in range(97,123)]\n",
    "large_chr = [chr(i) for i in range(65,91)]\n",
    "print(number)\n",
    "print(little_chr)\n",
    "print(large_chr)\n",
    "CHAR_SET = number"
   ]
  },
  {
   "cell_type": "code",
   "execution_count": 5,
   "metadata": {},
   "outputs": [
    {
     "name": "stdout",
     "output_type": "stream",
     "text": [
      ">> Creating images 10000/10000\n"
     ]
    }
   ],
   "source": [
    "#生成验证码\n",
    "#随机生成4个字符\n",
    "def  random_captcha_text(char_set=CHAR_SET,captcha_size=4):\n",
    "    return ''.join(random.choices(char_set,k=captcha_size))\n",
    "\n",
    "#生成字符串对应的验证码\n",
    "def gen_captcha_text_and_image(path):\n",
    "    image_ = ImageCaptcha()\n",
    "    captcha_text = random_captcha_text()\n",
    "    captcha = image_.generate(captcha_text)\n",
    "    image_.write(captcha_text,path + captcha_text + '.jpg')\n",
    "    \n",
    "path = r'F:\\TensorFlow-inception\\captcha\\images\\\\'\n",
    "num = 10000\n",
    "\n",
    "if not os.path.exists(path):\n",
    "    os.makedirs(path)\n",
    "    \n",
    "for i in range(num):\n",
    "    gen_captcha_text_and_image(path)\n",
    "    sys.stdout.write('\\r>> Creating images %d/%d' % (i+1,num))\n",
    "    sys.stdout.flush()\n",
    "    \n",
    "sys.stdout.write('\\n')\n",
    "sys.stdout.flush()"
   ]
  },
  {
   "cell_type": "markdown",
   "metadata": {},
   "source": [
    "<font size=4 face='黑体'>转换为tfrecord"
   ]
  },
  {
   "cell_type": "code",
   "execution_count": 7,
   "metadata": {},
   "outputs": [
    {
     "name": "stdout",
     "output_type": "stream",
     "text": [
      ">> Converting image 5803/5803\n",
      ">> Converting image 500/500\n"
     ]
    }
   ],
   "source": [
    "num_test = 500\n",
    "random_seed = 2\n",
    "data_dir = r'F:/TensorFlow-inception/captcha/images/'\n",
    "tfrecord_dir = r'F:/TensorFlow-inception/captcha/'\n",
    "\n",
    "#查看文件是否存在\n",
    "def tfdata_is_exists(dataset_dir):\n",
    "    for split_name in ['train','test']:\n",
    "        tf_name = os.path.join(dataset_dir,split_name + '.tfrecord')\n",
    "        if not tf.gfile.Exists(tf_name):\n",
    "            return False\n",
    "    return True\n",
    "\n",
    "#获得每张验证码各自的路径组成的列表\n",
    "def get_filenames(dataset_dir):\n",
    "    captcha_names = []\n",
    "    for filename in os.listdir(dataset_dir):\n",
    "        path = os.path.join(dataset_dir,filename)\n",
    "        captcha_names.append(path)\n",
    "    return captcha_names\n",
    "\n",
    "#转换为协议文本格式\n",
    "def int64_feature(values):\n",
    "    if not isinstance(values,(tuple,list)):\n",
    "        values = [values]\n",
    "    return tf.train.Feature(int64_list=tf.train.Int64List(value=values))\n",
    "\n",
    "def bytes_feature(values):\n",
    "    return tf.train.Feature(bytes_list=tf.train.BytesList(value=[values]))\n",
    "\n",
    "def image_to_tfexample(image_data,label0,label1,label2,label3):\n",
    "    return tf.train.Example(features=tf.train.Features(feature={\n",
    "        'image':bytes_feature(image_data),\n",
    "        'label0':int64_feature(label0),\n",
    "        'label1':int64_feature(label1),\n",
    "        'label2':int64_feature(label2),\n",
    "        'label3':int64_feature(label3)\n",
    "    }))\n",
    "\n",
    "#数据转换为record格式\n",
    "def convert_dataset(split_name,filenames,tfrecord_dir):\n",
    "    #确保split_name在['train','test']中\n",
    "    assert split_name in ['train','test']\n",
    "    \n",
    "    with tf.Session() as sess:\n",
    "        out_tfnames = os.path.join(tfrecord_dir,split_name + '.tfrecord')\n",
    "        with tf.python_io.TFRecordWriter(out_tfnames) as tf_writer:\n",
    "            for i,filename in enumerate(filenames):\n",
    "                try:\n",
    "                    sys.stdout.write('\\r>> Converting image %d/%d' % (i+1,len(filenames)))\n",
    "                    sys.stdout.flush()\n",
    "                    \n",
    "                    image_data = Image.open(filename)\n",
    "                    image_data = image_data.resize((224,224))  #为了之后多任务训练的Alexnet模型\n",
    "                    image_data = image_data.convert('L').tobytes()  #转化为单通道的灰度图，并转换为bytes格式\n",
    "                    \n",
    "                    #拿到4位验证码并encode（）\n",
    "                    labels = filename.split('/')[-1][:4]\n",
    "                    example = image_to_tfexample(image_data,int(labels[0]),int(labels[1]),int(labels[2]),int(labels[3]))\n",
    "                    \n",
    "                    tf_writer.write(example.SerializeToString())\n",
    "                    \n",
    "                except IOError as e:\n",
    "                    print('Wrong:' + filename)\n",
    "                    print('Error:',e)\n",
    "                    print('Skip it\\n')\n",
    "    sys.stdout.write('\\n')\n",
    "    sys.stdout.flush()\n",
    "    \n",
    "if tfdata_is_exists(tfrecord_dir):\n",
    "    print('tf文件已经存在')\n",
    "else:\n",
    "    photo_filenames = get_filenames(data_dir)\n",
    "    random.seed(random_seed)\n",
    "    #打乱文件\n",
    "    random.shuffle(photo_filenames)\n",
    "    training_filenames = photo_filenames[num_test:]\n",
    "    testing_filenames = photo_filenames[:num_test]\n",
    "    \n",
    "    convert_dataset('train',training_filenames,tfrecord_dir)\n",
    "    convert_dataset('test',testing_filenames,tfrecord_dir)\n",
    "                "
   ]
  },
  {
   "cell_type": "markdown",
   "metadata": {},
   "source": [
    "<font size=4 face='黑体'>查看自己转换的是否正确"
   ]
  },
  {
   "cell_type": "code",
   "execution_count": 8,
   "metadata": {},
   "outputs": [
    {
     "name": "stdout",
     "output_type": "stream",
     "text": [
      "batch0:\n",
      "2 7 4 5\n"
     ]
    },
    {
     "data": {
      "image/png": "[encoded data removed]",
      "text/plain": [
       "<Figure size 432x288 with 1 Axes>"
      ]
     },
     "metadata": {},
     "output_type": "display_data"
    },
    {
     "name": "stdout",
     "output_type": "stream",
     "text": [
      "5 3 7 8\n"
     ]
    },
    {
     "data": {
      "image/png": "[encoded data removed]",
      "text/plain": [
       "<Figure size 432x288 with 1 Axes>"
      ]
     },
     "metadata": {},
     "output_type": "display_data"
    },
    {
     "name": "stdout",
     "output_type": "stream",
     "text": [
      "1 9 0 0\n"
     ]
    },
    {
     "data": {
      "image/png": "[encoded data removed]",
      "text/plain": [
       "<Figure size 432x288 with 1 Axes>"
      ]
     },
     "metadata": {},
     "output_type": "display_data"
    }
   ],
   "source": [
    "def read_and_decode(filename_quene, batch_size):\n",
    "    reader = tf.TFRecordReader()\n",
    "    _, serialized_example = reader.read(filename_quene)\n",
    "    features = tf.parse_single_example(serialized_example,\n",
    "                                      features={\n",
    "                                          'image':tf.FixedLenFeature([], tf.string),\n",
    "                                          'label0':tf.FixedLenFeature([], tf.int64),\n",
    "                                          'label1':tf.FixedLenFeature([], tf.int64),\n",
    "                                          'label2':tf.FixedLenFeature([], tf.int64),\n",
    "                                          'label3':tf.FixedLenFeature([], tf.int64)\n",
    "                                      })\n",
    "    image = tf.decode_raw(features['image'], tf.int8)\n",
    "    image = tf.reshape(image, [224,224])\n",
    "    label0 = tf.cast(features['label0'], tf.int32)\n",
    "    label1 = tf.cast(features['label1'], tf.int32)\n",
    "    label2 = tf.cast(features['label2'], tf.int32)\n",
    "    label3 = tf.cast(features['label3'], tf.int32)\n",
    "    return image, label0, label1, label2, label3\n",
    "\n",
    "def show_tfrecord(tf_name, batch_num,batch_size):\n",
    "    filename_queue = tf.train.string_input_producer([tf_name])\n",
    "    images, labels0, labels1, labels2, labels3 = read_and_decode(filename_queue,batch_size)\n",
    "    images_b, labels0_b, labels1_b, labels2_b, labels3_b = tf.train.shuffle_batch([images, labels0, labels1, labels2, labels3],\n",
    "                                                                                   batch_size=batch_size,\n",
    "                                                                                   capacity=100,\n",
    "                                                                                   num_threads=1,\n",
    "                                                                                   min_after_dequeue=20)\n",
    "    init_op = tf.group(tf.global_variables_initializer(),\n",
    "                      tf.local_variables_initializer())\n",
    "    with tf.Session() as sess:\n",
    "        sess.run(init_op)\n",
    "        coord = tf.train.Coordinator()\n",
    "        threads = tf.train.start_queue_runners(coord=coord)\n",
    "        \n",
    "        for i in range(batch_num):\n",
    "            img_, label0_, label1_, label2_, label3_ = sess.run([images_b, labels0_b, labels1_b, labels2_b, labels3_b])\n",
    "            print('batch' + str(i) + ':')\n",
    "            for j in range(batch_size):\n",
    "                print(label0_[j],label1_[j],label2_[j],label3_[j])\n",
    "                plt.imshow(img_[j],cmap='gray')\n",
    "                plt.show()\n",
    "        coord.request_stop()\n",
    "        coord.join(threads)\n",
    "        \n",
    "show_tfrecord('F:/TensorFlow-inception/captcha/train.tfrecord',batch_num=1,batch_size=3)"
   ]
  },
  {
   "cell_type": "markdown",
   "metadata": {},
   "source": [
    "<font size=4 face='黑体'>单任务的CNN验证码识别"
   ]
  },
  {
   "cell_type": "code",
   "execution_count": null,
   "metadata": {},
   "outputs": [],
   "source": []
  },
  {
   "cell_type": "markdown",
   "metadata": {},
   "source": [
    "<font size=4 face='黑体'>将图片转换为tfrecord"
   ]
  },
  {
   "cell_type": "code",
   "execution_count": 11,
   "metadata": {},
   "outputs": [
    {
     "name": "stdout",
     "output_type": "stream",
     "text": [
      ">> Converting image 476/476\n",
      ">> Converting image 100/100\n"
     ]
    }
   ],
   "source": [
    "#验证集数量\n",
    "_NUM_TEST = 100\n",
    "#随机种子\n",
    "_RANDOM_SEED = 0\n",
    "#数据集路径\n",
    "DATASET_DIR = \"F:/TensorFlow-inception/images/\"\n",
    "#标签文件名字\n",
    "LABELS_FILENAME = \"labels.txt\"\n",
    "\n",
    "#判断tfrecord文件是否存在\n",
    "def _dataset_exists(dataset_dir):\n",
    "    for split_name in ['train', 'test']:\n",
    "        output_filename = os.path.join(dataset_dir, split_name + '.tfrecord')\n",
    "        if not tf.gfile.Exists(output_filename):\n",
    "            return False\n",
    "    return True\n",
    "\n",
    "#获取所有文件以及分类\n",
    "def _get_filenames_and_classes(dataset_dir):\n",
    "    #数据目录\n",
    "    directories = []\n",
    "    #分类名称\n",
    "    class_names = []\n",
    "    for filename in os.listdir(dataset_dir):\n",
    "        #合并文件路径\n",
    "        path = os.path.join(dataset_dir, filename)\n",
    "        #判断该路径是否为目录\n",
    "        if os.path.isdir(path):\n",
    "            #加入数据目录\n",
    "            directories.append(path)\n",
    "            #加入类别名称\n",
    "            class_names.append(filename)\n",
    "\n",
    "    photo_filenames = []\n",
    "    #循环每个分类的文件夹\n",
    "    for directory in directories:\n",
    "        for filename in os.listdir(directory):\n",
    "            path = os.path.join(directory, filename)\n",
    "            #把图片加入图片列表\n",
    "            photo_filenames.append(path)\n",
    "\n",
    "    return photo_filenames, class_names\n",
    "\n",
    "def int64_feature(values):\n",
    "    if not isinstance(values, (tuple, list)):\n",
    "        values = [values]\n",
    "    return tf.train.Feature(int64_list=tf.train.Int64List(value=values))\n",
    "\n",
    "def bytes_feature(values):\n",
    "    return tf.train.Feature(bytes_list=tf.train.BytesList(value=[values]))\n",
    "\n",
    "def image_to_tfexample(image_data, image_format, class_id):\n",
    "    #Abstract base class for protocol messages.\n",
    "    return tf.train.Example(features=tf.train.Features(feature={\n",
    "      'image/encoded': bytes_feature(image_data),\n",
    "      'image/format': bytes_feature(image_format),\n",
    "      'image/class/label': int64_feature(class_id),\n",
    "    }))\n",
    "\n",
    "def write_label_file(labels_to_class_names, dataset_dir,filename=LABELS_FILENAME):\n",
    "    labels_filename = os.path.join(dataset_dir, filename)\n",
    "    with tf.gfile.Open(labels_filename, 'w') as f:\n",
    "        for label in labels_to_class_names:\n",
    "            class_name = labels_to_class_names[label]\n",
    "            f.write('%d:%s\\n' % (label, class_name))\n",
    "\n",
    "#把数据转为TFRecord格式\n",
    "def _convert_dataset(split_name, filenames, class_names_to_ids, dataset_dir):\n",
    "    assert split_name in ['train', 'test']\n",
    "    with tf.Graph().as_default():\n",
    "        with tf.Session() as sess:\n",
    "            #定义tfrecord文件的路径+名字\n",
    "            output_filename = os.path.join(dataset_dir, split_name + '.tfrecord')\n",
    "            with tf.python_io.TFRecordWriter(output_filename) as tfrecord_writer:\n",
    "                for i,filename in enumerate(filenames):\n",
    "                    try:\n",
    "                        sys.stdout.write('\\r>> Converting image %d/%d' % (i+1, len(filenames)))\n",
    "                        sys.stdout.flush()\n",
    "                        #读取图片\n",
    "                        image_data = tf.gfile.FastGFile(filename, 'rb').read()\n",
    "                        #获得图片的类别名称\n",
    "                        class_name = os.path.basename(os.path.dirname(filename))\n",
    "                        #找到类别名称对应的id\n",
    "                        class_id = class_names_to_ids[class_name]\n",
    "                        #生成tfrecord文件\n",
    "                        example = image_to_tfexample(image_data, b'jpg', class_id)\n",
    "                        tfrecord_writer.write(example.SerializeToString())\n",
    "                    except IOError as e:\n",
    "                        print(\"Could not read:\",filename)\n",
    "                        print(\"Error:\",e)\n",
    "                        print(\"Skip it\\n\")\n",
    "                            \n",
    "    sys.stdout.write('\\n')\n",
    "    sys.stdout.flush()\n",
    "\n",
    "\n",
    "if __name__ == '__main__':\n",
    "    if _dataset_exists(DATASET_DIR):\n",
    "        print('tfcecord文件已存在')\n",
    "    else:\n",
    "        #获得所有图片以及分类\n",
    "        photo_filenames, class_names = _get_filenames_and_classes(DATASET_DIR)\n",
    "        #把分类转为字典格式，类似于{'house': 3, 'flower': 1, 'plane': 4, 'guitar': 2, 'animal': 0}\n",
    "        class_names_to_ids = dict(zip(class_names, range(len(class_names))))\n",
    "\n",
    "        #把数据切分为训练集和测试集\n",
    "        random.seed(_RANDOM_SEED)\n",
    "        random.shuffle(photo_filenames)\n",
    "        training_filenames = photo_filenames[_NUM_TEST:]\n",
    "        testing_filenames = photo_filenames[:_NUM_TEST]\n",
    "\n",
    "        #数据转换\n",
    "        _convert_dataset('train', training_filenames, class_names_to_ids, DATASET_DIR)\n",
    "        _convert_dataset('test', testing_filenames, class_names_to_ids, DATASET_DIR)\n",
    "\n",
    "        #输出labels文件\n",
    "        labels_to_class_names = dict(zip(range(len(class_names)), class_names))\n",
    "        write_label_file(labels_to_class_names, DATASET_DIR)"
   ]
  },
  {
   "cell_type": "code",
   "execution_count": null,
   "metadata": {},
   "outputs": [],
   "source": []
  }
 ],
 "metadata": {
  "kernelspec": {
   "display_name": "Python 3",
   "language": "python",
   "name": "python3"
  },
  "language_info": {
   "codemirror_mode": {
    "name": "ipython",
    "version": 3
   },
   "file_extension": ".py",
   "mimetype": "text/x-python",
   "name": "python",
   "nbconvert_exporter": "python",
   "pygments_lexer": "ipython3",
   "version": "3.6.5"
  }
 },
 "nbformat": 4,
 "nbformat_minor": 2
}
